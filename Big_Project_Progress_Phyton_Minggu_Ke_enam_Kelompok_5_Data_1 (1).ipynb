{
  "cells": [
    {
      "cell_type": "code",
      "execution_count": 47,
      "metadata": {
        "id": "hbUbSwjssPdQ"
      },
      "outputs": [],
      "source": [
        "import numpy as np\n",
        "import pandas as pd\n",
        "\n",
        "# Library untuk visualisasi data\n",
        "import matplotlib.pyplot as plt\n",
        "import seaborn as sns\n",
        "%matplotlib inline\n",
        "\n",
        "from sklearn.model_selection import train_test_split\n",
        "from sklearn.preprocessing import MinMaxScaler, StandardScaler, LabelEncoder, OneHotEncoder, OrdinalEncoder\n",
        "\n",
        "# for resampling \n",
        "from imblearn.over_sampling import RandomOverSampler\n",
        "\n",
        "#for MODEL\n",
        "from sklearn.svm import SVC\n",
        "from sklearn.tree import DecisionTreeClassifier\n",
        "\n",
        "#for checking testing results\n",
        "from sklearn.metrics import accuracy_score, f1_score, recall_score, precision_score, classification_report, confusion_matrix\n",
        "\n",
        "# ANN Struktur\n",
        "import keras\n",
        "from keras.utils import np_utils\n",
        "from tensorflow.keras import models\n",
        "from tensorflow.keras import layers\n",
        "from tensorflow.keras import optimizers\n",
        "from tensorflow.keras.callbacks import EarlyStopping\n",
        "from keras.wrappers.scikit_learn import KerasClassifier\n",
        "from tensorflow import keras\n",
        "from tensorflow.keras.utils import plot_model\n",
        "from tensorflow.keras.models import Sequential\n",
        "from keras import layers\n",
        "from tensorflow.keras.layers import Dense, Activation, Dropout"
      ]
    },
    {
      "cell_type": "markdown",
      "metadata": {
        "id": "knUCQCse3aDd"
      },
      "source": [
        "###**Input Data**"
      ]
    },
    {
      "cell_type": "code",
      "execution_count": 48,
      "metadata": {
        "colab": {
          "base_uri": "https://localhost:8080/",
          "height": 644
        },
        "id": "Tv04LwLAsSps",
        "outputId": "d2e860c8-bb5e-489e-dabd-74b04d3d7b2a"
      },
      "outputs": [
        {
          "output_type": "execute_result",
          "data": {
            "text/plain": [
              "        Case_Type  Cases  Difference       Date Country_Region Province_State  \\\n",
              "0       Confirmed    319           1  4/11/2020      Mauritius            NaN   \n",
              "1          Deaths      0           0  2/27/2020        Bahamas            NaN   \n",
              "2       Confirmed     16           0  2/16/2020        Germany            NaN   \n",
              "3          Deaths      0           0  1/31/2020         Canada        Alberta   \n",
              "4          Deaths      0           0   3/4/2020      Australia     Queensland   \n",
              "...           ...    ...         ...        ...            ...            ...   \n",
              "539171     Deaths      0           0  1/29/2020             US         Kansas   \n",
              "539172  Confirmed      0           0  2/11/2020             US       Michigan   \n",
              "539173     Deaths      0           0  3/28/2020             US       Missouri   \n",
              "539174  Confirmed      0           0   2/8/2020             US           Iowa   \n",
              "539175     Deaths      3           0   4/9/2020             US        Georgia   \n",
              "\n",
              "         Admin2          Combined_Key     FIPS        Lat        Long  \\\n",
              "0           NaN                   NaN      NaN -20.200000   57.500000   \n",
              "1           NaN                   NaN      NaN  25.034300  -77.396300   \n",
              "2           NaN                   NaN      NaN  51.000000    9.000000   \n",
              "3           NaN                   NaN      NaN  53.933300 -116.576500   \n",
              "4           NaN                   NaN      NaN -28.016700  153.400000   \n",
              "...         ...                   ...      ...        ...         ...   \n",
              "539171  Bourbon   Bourbon, Kansas, US  20011.0  37.855086  -94.848660   \n",
              "539172     Luce    Luce, Michigan, US  26095.0  46.472274  -85.544712   \n",
              "539173   Benton  Benton, Missouri, US  29015.0  38.295033  -93.287561   \n",
              "539174  Hancock     Hancock, Iowa, US  19081.0  43.081785  -93.734549   \n",
              "539175       Wo                   NaN      NaN        NaN         NaN   \n",
              "\n",
              "        Table_Names     Prep_Flow_Runtime  \n",
              "0       Time Series  4/13/2020 9:18:41 PM  \n",
              "1       Time Series  4/13/2020 9:18:41 PM  \n",
              "2       Time Series  4/13/2020 9:18:41 PM  \n",
              "3       Time Series  4/13/2020 9:18:41 PM  \n",
              "4       Time Series  4/13/2020 9:18:41 PM  \n",
              "...             ...                   ...  \n",
              "539171  Time Series  4/13/2020 9:18:41 PM  \n",
              "539172  Time Series  4/13/2020 9:18:41 PM  \n",
              "539173  Time Series  4/13/2020 9:18:41 PM  \n",
              "539174  Time Series  4/13/2020 9:18:41 PM  \n",
              "539175          NaN                   NaN  \n",
              "\n",
              "[539176 rows x 13 columns]"
            ],
            "text/html": [
              "\n",
              "  <div id=\"df-7bd1c905-fd09-4402-8f7c-8fdfd92668bf\">\n",
              "    <div class=\"colab-df-container\">\n",
              "      <div>\n",
              "<style scoped>\n",
              "    .dataframe tbody tr th:only-of-type {\n",
              "        vertical-align: middle;\n",
              "    }\n",
              "\n",
              "    .dataframe tbody tr th {\n",
              "        vertical-align: top;\n",
              "    }\n",
              "\n",
              "    .dataframe thead th {\n",
              "        text-align: right;\n",
              "    }\n",
              "</style>\n",
              "<table border=\"1\" class=\"dataframe\">\n",
              "  <thead>\n",
              "    <tr style=\"text-align: right;\">\n",
              "      <th></th>\n",
              "      <th>Case_Type</th>\n",
              "      <th>Cases</th>\n",
              "      <th>Difference</th>\n",
              "      <th>Date</th>\n",
              "      <th>Country_Region</th>\n",
              "      <th>Province_State</th>\n",
              "      <th>Admin2</th>\n",
              "      <th>Combined_Key</th>\n",
              "      <th>FIPS</th>\n",
              "      <th>Lat</th>\n",
              "      <th>Long</th>\n",
              "      <th>Table_Names</th>\n",
              "      <th>Prep_Flow_Runtime</th>\n",
              "    </tr>\n",
              "  </thead>\n",
              "  <tbody>\n",
              "    <tr>\n",
              "      <th>0</th>\n",
              "      <td>Confirmed</td>\n",
              "      <td>319</td>\n",
              "      <td>1</td>\n",
              "      <td>4/11/2020</td>\n",
              "      <td>Mauritius</td>\n",
              "      <td>NaN</td>\n",
              "      <td>NaN</td>\n",
              "      <td>NaN</td>\n",
              "      <td>NaN</td>\n",
              "      <td>-20.200000</td>\n",
              "      <td>57.500000</td>\n",
              "      <td>Time Series</td>\n",
              "      <td>4/13/2020 9:18:41 PM</td>\n",
              "    </tr>\n",
              "    <tr>\n",
              "      <th>1</th>\n",
              "      <td>Deaths</td>\n",
              "      <td>0</td>\n",
              "      <td>0</td>\n",
              "      <td>2/27/2020</td>\n",
              "      <td>Bahamas</td>\n",
              "      <td>NaN</td>\n",
              "      <td>NaN</td>\n",
              "      <td>NaN</td>\n",
              "      <td>NaN</td>\n",
              "      <td>25.034300</td>\n",
              "      <td>-77.396300</td>\n",
              "      <td>Time Series</td>\n",
              "      <td>4/13/2020 9:18:41 PM</td>\n",
              "    </tr>\n",
              "    <tr>\n",
              "      <th>2</th>\n",
              "      <td>Confirmed</td>\n",
              "      <td>16</td>\n",
              "      <td>0</td>\n",
              "      <td>2/16/2020</td>\n",
              "      <td>Germany</td>\n",
              "      <td>NaN</td>\n",
              "      <td>NaN</td>\n",
              "      <td>NaN</td>\n",
              "      <td>NaN</td>\n",
              "      <td>51.000000</td>\n",
              "      <td>9.000000</td>\n",
              "      <td>Time Series</td>\n",
              "      <td>4/13/2020 9:18:41 PM</td>\n",
              "    </tr>\n",
              "    <tr>\n",
              "      <th>3</th>\n",
              "      <td>Deaths</td>\n",
              "      <td>0</td>\n",
              "      <td>0</td>\n",
              "      <td>1/31/2020</td>\n",
              "      <td>Canada</td>\n",
              "      <td>Alberta</td>\n",
              "      <td>NaN</td>\n",
              "      <td>NaN</td>\n",
              "      <td>NaN</td>\n",
              "      <td>53.933300</td>\n",
              "      <td>-116.576500</td>\n",
              "      <td>Time Series</td>\n",
              "      <td>4/13/2020 9:18:41 PM</td>\n",
              "    </tr>\n",
              "    <tr>\n",
              "      <th>4</th>\n",
              "      <td>Deaths</td>\n",
              "      <td>0</td>\n",
              "      <td>0</td>\n",
              "      <td>3/4/2020</td>\n",
              "      <td>Australia</td>\n",
              "      <td>Queensland</td>\n",
              "      <td>NaN</td>\n",
              "      <td>NaN</td>\n",
              "      <td>NaN</td>\n",
              "      <td>-28.016700</td>\n",
              "      <td>153.400000</td>\n",
              "      <td>Time Series</td>\n",
              "      <td>4/13/2020 9:18:41 PM</td>\n",
              "    </tr>\n",
              "    <tr>\n",
              "      <th>...</th>\n",
              "      <td>...</td>\n",
              "      <td>...</td>\n",
              "      <td>...</td>\n",
              "      <td>...</td>\n",
              "      <td>...</td>\n",
              "      <td>...</td>\n",
              "      <td>...</td>\n",
              "      <td>...</td>\n",
              "      <td>...</td>\n",
              "      <td>...</td>\n",
              "      <td>...</td>\n",
              "      <td>...</td>\n",
              "      <td>...</td>\n",
              "    </tr>\n",
              "    <tr>\n",
              "      <th>539171</th>\n",
              "      <td>Deaths</td>\n",
              "      <td>0</td>\n",
              "      <td>0</td>\n",
              "      <td>1/29/2020</td>\n",
              "      <td>US</td>\n",
              "      <td>Kansas</td>\n",
              "      <td>Bourbon</td>\n",
              "      <td>Bourbon, Kansas, US</td>\n",
              "      <td>20011.0</td>\n",
              "      <td>37.855086</td>\n",
              "      <td>-94.848660</td>\n",
              "      <td>Time Series</td>\n",
              "      <td>4/13/2020 9:18:41 PM</td>\n",
              "    </tr>\n",
              "    <tr>\n",
              "      <th>539172</th>\n",
              "      <td>Confirmed</td>\n",
              "      <td>0</td>\n",
              "      <td>0</td>\n",
              "      <td>2/11/2020</td>\n",
              "      <td>US</td>\n",
              "      <td>Michigan</td>\n",
              "      <td>Luce</td>\n",
              "      <td>Luce, Michigan, US</td>\n",
              "      <td>26095.0</td>\n",
              "      <td>46.472274</td>\n",
              "      <td>-85.544712</td>\n",
              "      <td>Time Series</td>\n",
              "      <td>4/13/2020 9:18:41 PM</td>\n",
              "    </tr>\n",
              "    <tr>\n",
              "      <th>539173</th>\n",
              "      <td>Deaths</td>\n",
              "      <td>0</td>\n",
              "      <td>0</td>\n",
              "      <td>3/28/2020</td>\n",
              "      <td>US</td>\n",
              "      <td>Missouri</td>\n",
              "      <td>Benton</td>\n",
              "      <td>Benton, Missouri, US</td>\n",
              "      <td>29015.0</td>\n",
              "      <td>38.295033</td>\n",
              "      <td>-93.287561</td>\n",
              "      <td>Time Series</td>\n",
              "      <td>4/13/2020 9:18:41 PM</td>\n",
              "    </tr>\n",
              "    <tr>\n",
              "      <th>539174</th>\n",
              "      <td>Confirmed</td>\n",
              "      <td>0</td>\n",
              "      <td>0</td>\n",
              "      <td>2/8/2020</td>\n",
              "      <td>US</td>\n",
              "      <td>Iowa</td>\n",
              "      <td>Hancock</td>\n",
              "      <td>Hancock, Iowa, US</td>\n",
              "      <td>19081.0</td>\n",
              "      <td>43.081785</td>\n",
              "      <td>-93.734549</td>\n",
              "      <td>Time Series</td>\n",
              "      <td>4/13/2020 9:18:41 PM</td>\n",
              "    </tr>\n",
              "    <tr>\n",
              "      <th>539175</th>\n",
              "      <td>Deaths</td>\n",
              "      <td>3</td>\n",
              "      <td>0</td>\n",
              "      <td>4/9/2020</td>\n",
              "      <td>US</td>\n",
              "      <td>Georgia</td>\n",
              "      <td>Wo</td>\n",
              "      <td>NaN</td>\n",
              "      <td>NaN</td>\n",
              "      <td>NaN</td>\n",
              "      <td>NaN</td>\n",
              "      <td>NaN</td>\n",
              "      <td>NaN</td>\n",
              "    </tr>\n",
              "  </tbody>\n",
              "</table>\n",
              "<p>539176 rows × 13 columns</p>\n",
              "</div>\n",
              "      <button class=\"colab-df-convert\" onclick=\"convertToInteractive('df-7bd1c905-fd09-4402-8f7c-8fdfd92668bf')\"\n",
              "              title=\"Convert this dataframe to an interactive table.\"\n",
              "              style=\"display:none;\">\n",
              "        \n",
              "  <svg xmlns=\"http://www.w3.org/2000/svg\" height=\"24px\"viewBox=\"0 0 24 24\"\n",
              "       width=\"24px\">\n",
              "    <path d=\"M0 0h24v24H0V0z\" fill=\"none\"/>\n",
              "    <path d=\"M18.56 5.44l.94 2.06.94-2.06 2.06-.94-2.06-.94-.94-2.06-.94 2.06-2.06.94zm-11 1L8.5 8.5l.94-2.06 2.06-.94-2.06-.94L8.5 2.5l-.94 2.06-2.06.94zm10 10l.94 2.06.94-2.06 2.06-.94-2.06-.94-.94-2.06-.94 2.06-2.06.94z\"/><path d=\"M17.41 7.96l-1.37-1.37c-.4-.4-.92-.59-1.43-.59-.52 0-1.04.2-1.43.59L10.3 9.45l-7.72 7.72c-.78.78-.78 2.05 0 2.83L4 21.41c.39.39.9.59 1.41.59.51 0 1.02-.2 1.41-.59l7.78-7.78 2.81-2.81c.8-.78.8-2.07 0-2.86zM5.41 20L4 18.59l7.72-7.72 1.47 1.35L5.41 20z\"/>\n",
              "  </svg>\n",
              "      </button>\n",
              "      \n",
              "  <style>\n",
              "    .colab-df-container {\n",
              "      display:flex;\n",
              "      flex-wrap:wrap;\n",
              "      gap: 12px;\n",
              "    }\n",
              "\n",
              "    .colab-df-convert {\n",
              "      background-color: #E8F0FE;\n",
              "      border: none;\n",
              "      border-radius: 50%;\n",
              "      cursor: pointer;\n",
              "      display: none;\n",
              "      fill: #1967D2;\n",
              "      height: 32px;\n",
              "      padding: 0 0 0 0;\n",
              "      width: 32px;\n",
              "    }\n",
              "\n",
              "    .colab-df-convert:hover {\n",
              "      background-color: #E2EBFA;\n",
              "      box-shadow: 0px 1px 2px rgba(60, 64, 67, 0.3), 0px 1px 3px 1px rgba(60, 64, 67, 0.15);\n",
              "      fill: #174EA6;\n",
              "    }\n",
              "\n",
              "    [theme=dark] .colab-df-convert {\n",
              "      background-color: #3B4455;\n",
              "      fill: #D2E3FC;\n",
              "    }\n",
              "\n",
              "    [theme=dark] .colab-df-convert:hover {\n",
              "      background-color: #434B5C;\n",
              "      box-shadow: 0px 1px 3px 1px rgba(0, 0, 0, 0.15);\n",
              "      filter: drop-shadow(0px 1px 2px rgba(0, 0, 0, 0.3));\n",
              "      fill: #FFFFFF;\n",
              "    }\n",
              "  </style>\n",
              "\n",
              "      <script>\n",
              "        const buttonEl =\n",
              "          document.querySelector('#df-7bd1c905-fd09-4402-8f7c-8fdfd92668bf button.colab-df-convert');\n",
              "        buttonEl.style.display =\n",
              "          google.colab.kernel.accessAllowed ? 'block' : 'none';\n",
              "\n",
              "        async function convertToInteractive(key) {\n",
              "          const element = document.querySelector('#df-7bd1c905-fd09-4402-8f7c-8fdfd92668bf');\n",
              "          const dataTable =\n",
              "            await google.colab.kernel.invokeFunction('convertToInteractive',\n",
              "                                                     [key], {});\n",
              "          if (!dataTable) return;\n",
              "\n",
              "          const docLinkHtml = 'Like what you see? Visit the ' +\n",
              "            '<a target=\"_blank\" href=https://colab.research.google.com/notebooks/data_table.ipynb>data table notebook</a>'\n",
              "            + ' to learn more about interactive tables.';\n",
              "          element.innerHTML = '';\n",
              "          dataTable['output_type'] = 'display_data';\n",
              "          await google.colab.output.renderOutput(dataTable, element);\n",
              "          const docLink = document.createElement('div');\n",
              "          docLink.innerHTML = docLinkHtml;\n",
              "          element.appendChild(docLink);\n",
              "        }\n",
              "      </script>\n",
              "    </div>\n",
              "  </div>\n",
              "  "
            ]
          },
          "metadata": {},
          "execution_count": 48
        }
      ],
      "source": [
        "datacovid = \"/content/COVID-19 Cases.csv\"\n",
        "data = pd.read_csv(datacovid)\n",
        "data"
      ]
    },
    {
      "cell_type": "markdown",
      "metadata": {
        "id": "VPbO3NC9Y_xI"
      },
      "source": [
        "## Preprocessing data\n"
      ]
    },
    {
      "cell_type": "code",
      "execution_count": 49,
      "metadata": {
        "colab": {
          "base_uri": "https://localhost:8080/"
        },
        "id": "p6CUjonOtfeM",
        "outputId": "67729ede-f992-48f9-c472-b56ca75bc628"
      },
      "outputs": [
        {
          "output_type": "execute_result",
          "data": {
            "text/plain": [
              "Case_Type                0\n",
              "Cases                    0\n",
              "Difference               0\n",
              "Date                     0\n",
              "Country_Region           0\n",
              "Province_State       29538\n",
              "Admin2               43274\n",
              "Combined_Key         42505\n",
              "FIPS                 58341\n",
              "Lat                    165\n",
              "Long                   165\n",
              "Table_Names              1\n",
              "Prep_Flow_Runtime        1\n",
              "dtype: int64"
            ]
          },
          "metadata": {},
          "execution_count": 49
        }
      ],
      "source": [
        "# Memeriksa missing/null value\n",
        "data.isnull().sum()"
      ]
    },
    {
      "cell_type": "code",
      "execution_count": 50,
      "metadata": {
        "colab": {
          "base_uri": "https://localhost:8080/"
        },
        "id": "swDnPQ8ntpMN",
        "outputId": "6b24fec1-c551-4aa3-b407-495c06b40e23"
      },
      "outputs": [
        {
          "output_type": "stream",
          "name": "stdout",
          "text": [
            "<class 'pandas.core.frame.DataFrame'>\n",
            "RangeIndex: 539176 entries, 0 to 539175\n",
            "Data columns (total 13 columns):\n",
            " #   Column             Non-Null Count   Dtype  \n",
            "---  ------             --------------   -----  \n",
            " 0   Case_Type          539176 non-null  object \n",
            " 1   Cases              539176 non-null  int64  \n",
            " 2   Difference         539176 non-null  int64  \n",
            " 3   Date               539176 non-null  object \n",
            " 4   Country_Region     539176 non-null  object \n",
            " 5   Province_State     509638 non-null  object \n",
            " 6   Admin2             495902 non-null  object \n",
            " 7   Combined_Key       496671 non-null  object \n",
            " 8   FIPS               480835 non-null  float64\n",
            " 9   Lat                539011 non-null  float64\n",
            " 10  Long               539011 non-null  float64\n",
            " 11  Table_Names        539175 non-null  object \n",
            " 12  Prep_Flow_Runtime  539175 non-null  object \n",
            "dtypes: float64(3), int64(2), object(8)\n",
            "memory usage: 53.5+ MB\n"
          ]
        }
      ],
      "source": [
        "# Memeriksa info dalam dataset\n",
        "data.info()"
      ]
    },
    {
      "cell_type": "code",
      "execution_count": 51,
      "metadata": {
        "colab": {
          "base_uri": "https://localhost:8080/",
          "height": 206
        },
        "id": "hcz7RN8ewtpX",
        "outputId": "09843691-c63d-4714-9a48-e1e7941ded4f"
      },
      "outputs": [
        {
          "output_type": "execute_result",
          "data": {
            "text/plain": [
              "               Cases  Difference      FIPS       Lat      Long\n",
              "Cases       1.000000    0.740441  0.000289  0.007498  0.074234\n",
              "Difference  0.740441    1.000000 -0.000541  0.011480  0.061022\n",
              "FIPS        0.000289   -0.000541  1.000000  0.075647  0.087390\n",
              "Lat         0.007498    0.011480  0.075647  1.000000 -0.549014\n",
              "Long        0.074234    0.061022  0.087390 -0.549014  1.000000"
            ],
            "text/html": [
              "\n",
              "  <div id=\"df-73c43226-8cf6-48f5-a05b-f3d5e35578b3\">\n",
              "    <div class=\"colab-df-container\">\n",
              "      <div>\n",
              "<style scoped>\n",
              "    .dataframe tbody tr th:only-of-type {\n",
              "        vertical-align: middle;\n",
              "    }\n",
              "\n",
              "    .dataframe tbody tr th {\n",
              "        vertical-align: top;\n",
              "    }\n",
              "\n",
              "    .dataframe thead th {\n",
              "        text-align: right;\n",
              "    }\n",
              "</style>\n",
              "<table border=\"1\" class=\"dataframe\">\n",
              "  <thead>\n",
              "    <tr style=\"text-align: right;\">\n",
              "      <th></th>\n",
              "      <th>Cases</th>\n",
              "      <th>Difference</th>\n",
              "      <th>FIPS</th>\n",
              "      <th>Lat</th>\n",
              "      <th>Long</th>\n",
              "    </tr>\n",
              "  </thead>\n",
              "  <tbody>\n",
              "    <tr>\n",
              "      <th>Cases</th>\n",
              "      <td>1.000000</td>\n",
              "      <td>0.740441</td>\n",
              "      <td>0.000289</td>\n",
              "      <td>0.007498</td>\n",
              "      <td>0.074234</td>\n",
              "    </tr>\n",
              "    <tr>\n",
              "      <th>Difference</th>\n",
              "      <td>0.740441</td>\n",
              "      <td>1.000000</td>\n",
              "      <td>-0.000541</td>\n",
              "      <td>0.011480</td>\n",
              "      <td>0.061022</td>\n",
              "    </tr>\n",
              "    <tr>\n",
              "      <th>FIPS</th>\n",
              "      <td>0.000289</td>\n",
              "      <td>-0.000541</td>\n",
              "      <td>1.000000</td>\n",
              "      <td>0.075647</td>\n",
              "      <td>0.087390</td>\n",
              "    </tr>\n",
              "    <tr>\n",
              "      <th>Lat</th>\n",
              "      <td>0.007498</td>\n",
              "      <td>0.011480</td>\n",
              "      <td>0.075647</td>\n",
              "      <td>1.000000</td>\n",
              "      <td>-0.549014</td>\n",
              "    </tr>\n",
              "    <tr>\n",
              "      <th>Long</th>\n",
              "      <td>0.074234</td>\n",
              "      <td>0.061022</td>\n",
              "      <td>0.087390</td>\n",
              "      <td>-0.549014</td>\n",
              "      <td>1.000000</td>\n",
              "    </tr>\n",
              "  </tbody>\n",
              "</table>\n",
              "</div>\n",
              "      <button class=\"colab-df-convert\" onclick=\"convertToInteractive('df-73c43226-8cf6-48f5-a05b-f3d5e35578b3')\"\n",
              "              title=\"Convert this dataframe to an interactive table.\"\n",
              "              style=\"display:none;\">\n",
              "        \n",
              "  <svg xmlns=\"http://www.w3.org/2000/svg\" height=\"24px\"viewBox=\"0 0 24 24\"\n",
              "       width=\"24px\">\n",
              "    <path d=\"M0 0h24v24H0V0z\" fill=\"none\"/>\n",
              "    <path d=\"M18.56 5.44l.94 2.06.94-2.06 2.06-.94-2.06-.94-.94-2.06-.94 2.06-2.06.94zm-11 1L8.5 8.5l.94-2.06 2.06-.94-2.06-.94L8.5 2.5l-.94 2.06-2.06.94zm10 10l.94 2.06.94-2.06 2.06-.94-2.06-.94-.94-2.06-.94 2.06-2.06.94z\"/><path d=\"M17.41 7.96l-1.37-1.37c-.4-.4-.92-.59-1.43-.59-.52 0-1.04.2-1.43.59L10.3 9.45l-7.72 7.72c-.78.78-.78 2.05 0 2.83L4 21.41c.39.39.9.59 1.41.59.51 0 1.02-.2 1.41-.59l7.78-7.78 2.81-2.81c.8-.78.8-2.07 0-2.86zM5.41 20L4 18.59l7.72-7.72 1.47 1.35L5.41 20z\"/>\n",
              "  </svg>\n",
              "      </button>\n",
              "      \n",
              "  <style>\n",
              "    .colab-df-container {\n",
              "      display:flex;\n",
              "      flex-wrap:wrap;\n",
              "      gap: 12px;\n",
              "    }\n",
              "\n",
              "    .colab-df-convert {\n",
              "      background-color: #E8F0FE;\n",
              "      border: none;\n",
              "      border-radius: 50%;\n",
              "      cursor: pointer;\n",
              "      display: none;\n",
              "      fill: #1967D2;\n",
              "      height: 32px;\n",
              "      padding: 0 0 0 0;\n",
              "      width: 32px;\n",
              "    }\n",
              "\n",
              "    .colab-df-convert:hover {\n",
              "      background-color: #E2EBFA;\n",
              "      box-shadow: 0px 1px 2px rgba(60, 64, 67, 0.3), 0px 1px 3px 1px rgba(60, 64, 67, 0.15);\n",
              "      fill: #174EA6;\n",
              "    }\n",
              "\n",
              "    [theme=dark] .colab-df-convert {\n",
              "      background-color: #3B4455;\n",
              "      fill: #D2E3FC;\n",
              "    }\n",
              "\n",
              "    [theme=dark] .colab-df-convert:hover {\n",
              "      background-color: #434B5C;\n",
              "      box-shadow: 0px 1px 3px 1px rgba(0, 0, 0, 0.15);\n",
              "      filter: drop-shadow(0px 1px 2px rgba(0, 0, 0, 0.3));\n",
              "      fill: #FFFFFF;\n",
              "    }\n",
              "  </style>\n",
              "\n",
              "      <script>\n",
              "        const buttonEl =\n",
              "          document.querySelector('#df-73c43226-8cf6-48f5-a05b-f3d5e35578b3 button.colab-df-convert');\n",
              "        buttonEl.style.display =\n",
              "          google.colab.kernel.accessAllowed ? 'block' : 'none';\n",
              "\n",
              "        async function convertToInteractive(key) {\n",
              "          const element = document.querySelector('#df-73c43226-8cf6-48f5-a05b-f3d5e35578b3');\n",
              "          const dataTable =\n",
              "            await google.colab.kernel.invokeFunction('convertToInteractive',\n",
              "                                                     [key], {});\n",
              "          if (!dataTable) return;\n",
              "\n",
              "          const docLinkHtml = 'Like what you see? Visit the ' +\n",
              "            '<a target=\"_blank\" href=https://colab.research.google.com/notebooks/data_table.ipynb>data table notebook</a>'\n",
              "            + ' to learn more about interactive tables.';\n",
              "          element.innerHTML = '';\n",
              "          dataTable['output_type'] = 'display_data';\n",
              "          await google.colab.output.renderOutput(dataTable, element);\n",
              "          const docLink = document.createElement('div');\n",
              "          docLink.innerHTML = docLinkHtml;\n",
              "          element.appendChild(docLink);\n",
              "        }\n",
              "      </script>\n",
              "    </div>\n",
              "  </div>\n",
              "  "
            ]
          },
          "metadata": {},
          "execution_count": 51
        }
      ],
      "source": [
        "# Memeriksa Korelasi antar variabel dalam dataset\n",
        "data.corr()"
      ]
    },
    {
      "cell_type": "code",
      "execution_count": 52,
      "metadata": {
        "colab": {
          "base_uri": "https://localhost:8080/",
          "height": 300
        },
        "id": "J5fcumpXw_BI",
        "outputId": "d87ee1bf-e1a7-41b2-d033-d2d4883846ca"
      },
      "outputs": [
        {
          "output_type": "execute_result",
          "data": {
            "text/plain": [
              "               Cases     Difference           FIPS            Lat  \\\n",
              "count  539176.000000  539176.000000  480835.000000  539011.000000   \n",
              "mean       56.345032       3.711306   30343.742552      35.977501   \n",
              "std      1693.212329     101.801830   15198.028420      11.564466   \n",
              "min         0.000000   -1314.000000      60.000000     -51.796300   \n",
              "25%         0.000000       0.000000   18171.000000      33.605200   \n",
              "50%         0.000000       0.000000   29173.000000      37.937575   \n",
              "75%         0.000000       0.000000   45079.000000      41.683301   \n",
              "max    170099.000000   25615.000000   56045.000000      71.706900   \n",
              "\n",
              "                Long  \n",
              "count  539011.000000  \n",
              "mean      -80.377352  \n",
              "std        41.558611  \n",
              "min      -170.132000  \n",
              "25%       -97.445723  \n",
              "50%       -88.639223  \n",
              "75%       -81.090685  \n",
              "max       178.065000  "
            ],
            "text/html": [
              "\n",
              "  <div id=\"df-13a128d8-492b-4abe-8927-074bcac2f8e2\">\n",
              "    <div class=\"colab-df-container\">\n",
              "      <div>\n",
              "<style scoped>\n",
              "    .dataframe tbody tr th:only-of-type {\n",
              "        vertical-align: middle;\n",
              "    }\n",
              "\n",
              "    .dataframe tbody tr th {\n",
              "        vertical-align: top;\n",
              "    }\n",
              "\n",
              "    .dataframe thead th {\n",
              "        text-align: right;\n",
              "    }\n",
              "</style>\n",
              "<table border=\"1\" class=\"dataframe\">\n",
              "  <thead>\n",
              "    <tr style=\"text-align: right;\">\n",
              "      <th></th>\n",
              "      <th>Cases</th>\n",
              "      <th>Difference</th>\n",
              "      <th>FIPS</th>\n",
              "      <th>Lat</th>\n",
              "      <th>Long</th>\n",
              "    </tr>\n",
              "  </thead>\n",
              "  <tbody>\n",
              "    <tr>\n",
              "      <th>count</th>\n",
              "      <td>539176.000000</td>\n",
              "      <td>539176.000000</td>\n",
              "      <td>480835.000000</td>\n",
              "      <td>539011.000000</td>\n",
              "      <td>539011.000000</td>\n",
              "    </tr>\n",
              "    <tr>\n",
              "      <th>mean</th>\n",
              "      <td>56.345032</td>\n",
              "      <td>3.711306</td>\n",
              "      <td>30343.742552</td>\n",
              "      <td>35.977501</td>\n",
              "      <td>-80.377352</td>\n",
              "    </tr>\n",
              "    <tr>\n",
              "      <th>std</th>\n",
              "      <td>1693.212329</td>\n",
              "      <td>101.801830</td>\n",
              "      <td>15198.028420</td>\n",
              "      <td>11.564466</td>\n",
              "      <td>41.558611</td>\n",
              "    </tr>\n",
              "    <tr>\n",
              "      <th>min</th>\n",
              "      <td>0.000000</td>\n",
              "      <td>-1314.000000</td>\n",
              "      <td>60.000000</td>\n",
              "      <td>-51.796300</td>\n",
              "      <td>-170.132000</td>\n",
              "    </tr>\n",
              "    <tr>\n",
              "      <th>25%</th>\n",
              "      <td>0.000000</td>\n",
              "      <td>0.000000</td>\n",
              "      <td>18171.000000</td>\n",
              "      <td>33.605200</td>\n",
              "      <td>-97.445723</td>\n",
              "    </tr>\n",
              "    <tr>\n",
              "      <th>50%</th>\n",
              "      <td>0.000000</td>\n",
              "      <td>0.000000</td>\n",
              "      <td>29173.000000</td>\n",
              "      <td>37.937575</td>\n",
              "      <td>-88.639223</td>\n",
              "    </tr>\n",
              "    <tr>\n",
              "      <th>75%</th>\n",
              "      <td>0.000000</td>\n",
              "      <td>0.000000</td>\n",
              "      <td>45079.000000</td>\n",
              "      <td>41.683301</td>\n",
              "      <td>-81.090685</td>\n",
              "    </tr>\n",
              "    <tr>\n",
              "      <th>max</th>\n",
              "      <td>170099.000000</td>\n",
              "      <td>25615.000000</td>\n",
              "      <td>56045.000000</td>\n",
              "      <td>71.706900</td>\n",
              "      <td>178.065000</td>\n",
              "    </tr>\n",
              "  </tbody>\n",
              "</table>\n",
              "</div>\n",
              "      <button class=\"colab-df-convert\" onclick=\"convertToInteractive('df-13a128d8-492b-4abe-8927-074bcac2f8e2')\"\n",
              "              title=\"Convert this dataframe to an interactive table.\"\n",
              "              style=\"display:none;\">\n",
              "        \n",
              "  <svg xmlns=\"http://www.w3.org/2000/svg\" height=\"24px\"viewBox=\"0 0 24 24\"\n",
              "       width=\"24px\">\n",
              "    <path d=\"M0 0h24v24H0V0z\" fill=\"none\"/>\n",
              "    <path d=\"M18.56 5.44l.94 2.06.94-2.06 2.06-.94-2.06-.94-.94-2.06-.94 2.06-2.06.94zm-11 1L8.5 8.5l.94-2.06 2.06-.94-2.06-.94L8.5 2.5l-.94 2.06-2.06.94zm10 10l.94 2.06.94-2.06 2.06-.94-2.06-.94-.94-2.06-.94 2.06-2.06.94z\"/><path d=\"M17.41 7.96l-1.37-1.37c-.4-.4-.92-.59-1.43-.59-.52 0-1.04.2-1.43.59L10.3 9.45l-7.72 7.72c-.78.78-.78 2.05 0 2.83L4 21.41c.39.39.9.59 1.41.59.51 0 1.02-.2 1.41-.59l7.78-7.78 2.81-2.81c.8-.78.8-2.07 0-2.86zM5.41 20L4 18.59l7.72-7.72 1.47 1.35L5.41 20z\"/>\n",
              "  </svg>\n",
              "      </button>\n",
              "      \n",
              "  <style>\n",
              "    .colab-df-container {\n",
              "      display:flex;\n",
              "      flex-wrap:wrap;\n",
              "      gap: 12px;\n",
              "    }\n",
              "\n",
              "    .colab-df-convert {\n",
              "      background-color: #E8F0FE;\n",
              "      border: none;\n",
              "      border-radius: 50%;\n",
              "      cursor: pointer;\n",
              "      display: none;\n",
              "      fill: #1967D2;\n",
              "      height: 32px;\n",
              "      padding: 0 0 0 0;\n",
              "      width: 32px;\n",
              "    }\n",
              "\n",
              "    .colab-df-convert:hover {\n",
              "      background-color: #E2EBFA;\n",
              "      box-shadow: 0px 1px 2px rgba(60, 64, 67, 0.3), 0px 1px 3px 1px rgba(60, 64, 67, 0.15);\n",
              "      fill: #174EA6;\n",
              "    }\n",
              "\n",
              "    [theme=dark] .colab-df-convert {\n",
              "      background-color: #3B4455;\n",
              "      fill: #D2E3FC;\n",
              "    }\n",
              "\n",
              "    [theme=dark] .colab-df-convert:hover {\n",
              "      background-color: #434B5C;\n",
              "      box-shadow: 0px 1px 3px 1px rgba(0, 0, 0, 0.15);\n",
              "      filter: drop-shadow(0px 1px 2px rgba(0, 0, 0, 0.3));\n",
              "      fill: #FFFFFF;\n",
              "    }\n",
              "  </style>\n",
              "\n",
              "      <script>\n",
              "        const buttonEl =\n",
              "          document.querySelector('#df-13a128d8-492b-4abe-8927-074bcac2f8e2 button.colab-df-convert');\n",
              "        buttonEl.style.display =\n",
              "          google.colab.kernel.accessAllowed ? 'block' : 'none';\n",
              "\n",
              "        async function convertToInteractive(key) {\n",
              "          const element = document.querySelector('#df-13a128d8-492b-4abe-8927-074bcac2f8e2');\n",
              "          const dataTable =\n",
              "            await google.colab.kernel.invokeFunction('convertToInteractive',\n",
              "                                                     [key], {});\n",
              "          if (!dataTable) return;\n",
              "\n",
              "          const docLinkHtml = 'Like what you see? Visit the ' +\n",
              "            '<a target=\"_blank\" href=https://colab.research.google.com/notebooks/data_table.ipynb>data table notebook</a>'\n",
              "            + ' to learn more about interactive tables.';\n",
              "          element.innerHTML = '';\n",
              "          dataTable['output_type'] = 'display_data';\n",
              "          await google.colab.output.renderOutput(dataTable, element);\n",
              "          const docLink = document.createElement('div');\n",
              "          docLink.innerHTML = docLinkHtml;\n",
              "          element.appendChild(docLink);\n",
              "        }\n",
              "      </script>\n",
              "    </div>\n",
              "  </div>\n",
              "  "
            ]
          },
          "metadata": {},
          "execution_count": 52
        }
      ],
      "source": [
        "# Untuk melihat gambaran umum mengenai data dengan statistik deskriptif menggunakan fungsi describe.\n",
        "data.describe()"
      ]
    },
    {
      "cell_type": "code",
      "execution_count": 53,
      "metadata": {
        "colab": {
          "base_uri": "https://localhost:8080/"
        },
        "id": "euz4Cxz-pwrR",
        "outputId": "457fd90e-a556-432f-dab7-788fc9557e2f"
      },
      "outputs": [
        {
          "output_type": "execute_result",
          "data": {
            "text/plain": [
              "Index(['Case_Type', 'Cases', 'Difference', 'Date', 'Country_Region',\n",
              "       'Province_State', 'Admin2', 'Combined_Key', 'FIPS', 'Lat', 'Long',\n",
              "       'Table_Names', 'Prep_Flow_Runtime'],\n",
              "      dtype='object')"
            ]
          },
          "metadata": {},
          "execution_count": 53
        }
      ],
      "source": [
        "data.columns"
      ]
    },
    {
      "cell_type": "code",
      "execution_count": 54,
      "metadata": {
        "id": "7F0nIA9zp2JP"
      },
      "outputs": [],
      "source": [
        "# Drop kolom-kolom yang tidak digunakan (Feature Selection)\n",
        "to_drop = ['Date','Province_State','Admin2','Combined_Key','FIPS','Table_Names', 'Prep_Flow_Runtime','Lat','Long']\n",
        "data.drop(to_drop, inplace=True, axis=1)"
      ]
    },
    {
      "cell_type": "code",
      "execution_count": 55,
      "metadata": {
        "colab": {
          "base_uri": "https://localhost:8080/"
        },
        "id": "IXaBDTCn1EMx",
        "outputId": "8e9ff613-1e5a-4abc-83bf-429e42ce0b6b"
      },
      "outputs": [
        {
          "output_type": "execute_result",
          "data": {
            "text/plain": [
              "Case_Type         0\n",
              "Cases             0\n",
              "Difference        0\n",
              "Country_Region    0\n",
              "dtype: int64"
            ]
          },
          "metadata": {},
          "execution_count": 55
        }
      ],
      "source": [
        "data.isnull().sum()"
      ]
    },
    {
      "cell_type": "code",
      "execution_count": 56,
      "metadata": {
        "colab": {
          "base_uri": "https://localhost:8080/",
          "height": 504
        },
        "id": "cZSHbQKJ1to4",
        "outputId": "6e39f4f6-22c2-4acc-d81b-6a3f5b1a6268"
      },
      "outputs": [
        {
          "output_type": "display_data",
          "data": {
            "text/plain": [
              "<Figure size 800x550 with 1 Axes>"
            ],
            "image/png": "[encoded data removed]"
          },
          "metadata": {}
        }
      ],
      "source": [
        "# Membuat box plot dari kolom BMI\n",
        "import seaborn as sns\n",
        "import matplotlib.pyplot as plt\n",
        "sns.boxplot(data['Cases'])\n",
        "plt.title('Box Plot Cases')\n",
        "plt.show()"
      ]
    },
    {
      "cell_type": "code",
      "execution_count": 57,
      "metadata": {
        "colab": {
          "base_uri": "https://localhost:8080/"
        },
        "id": "4wVFTenc19HQ",
        "outputId": "0c43f248-6685-4fb7-8d73-44762d8b332e"
      },
      "outputs": [
        {
          "output_type": "execute_result",
          "data": {
            "text/plain": [
              "True"
            ]
          },
          "metadata": {},
          "execution_count": 57
        }
      ],
      "source": [
        "# Rows containing duplicate data\n",
        "data.duplicated().any()"
      ]
    },
    {
      "cell_type": "code",
      "execution_count": 58,
      "metadata": {
        "colab": {
          "base_uri": "https://localhost:8080/"
        },
        "id": "YOOTfZqE2OpX",
        "outputId": "26ea1e51-5b95-4728-c89f-07c61f4870f8"
      },
      "outputs": [
        {
          "output_type": "stream",
          "name": "stdout",
          "text": [
            "Number of rows before removing duplicates: 539176\n",
            "Number of rows after removing duplicates: 18910\n"
          ]
        }
      ],
      "source": [
        "# Mengatasi data duplikat dengan removing\n",
        "\n",
        "# Print the number of rows before removing duplicates\n",
        "print(\"Number of rows before removing duplicates:\", len(data))\n",
        "\n",
        "# Drop duplicates\n",
        "data.drop_duplicates(inplace=True)\n",
        "\n",
        "# Print the number of rows after removing duplicates\n",
        "print(\"Number of rows after removing duplicates:\", len(data))\n",
        "\n",
        "# Simpan dataframe ke dalam file CSV\n",
        "data.to_csv('COVID 19 Cases.csv', index=False)"
      ]
    },
    {
      "cell_type": "code",
      "execution_count": 59,
      "metadata": {
        "colab": {
          "base_uri": "https://localhost:8080/",
          "height": 423
        },
        "id": "oxwfg8KV2w8d",
        "outputId": "888a8990-455d-44f9-eb81-1c0e56819b48"
      },
      "outputs": [
        {
          "output_type": "execute_result",
          "data": {
            "text/plain": [
              "        Case_Type  Cases  Difference Country_Region\n",
              "0       Confirmed    319           1      Mauritius\n",
              "1          Deaths      0           0        Bahamas\n",
              "2       Confirmed     16           0        Germany\n",
              "3          Deaths      0           0         Canada\n",
              "4          Deaths      0           0      Australia\n",
              "...           ...    ...         ...            ...\n",
              "538943  Confirmed     76          16             US\n",
              "538990  Confirmed    483         -18             US\n",
              "539063  Confirmed    198          11             US\n",
              "539079  Confirmed   2716         584             US\n",
              "539154  Confirmed   4309         234             US\n",
              "\n",
              "[18910 rows x 4 columns]"
            ],
            "text/html": [
              "\n",
              "  <div id=\"df-3b28e7bc-3190-4268-be7d-e720bb70fc02\">\n",
              "    <div class=\"colab-df-container\">\n",
              "      <div>\n",
              "<style scoped>\n",
              "    .dataframe tbody tr th:only-of-type {\n",
              "        vertical-align: middle;\n",
              "    }\n",
              "\n",
              "    .dataframe tbody tr th {\n",
              "        vertical-align: top;\n",
              "    }\n",
              "\n",
              "    .dataframe thead th {\n",
              "        text-align: right;\n",
              "    }\n",
              "</style>\n",
              "<table border=\"1\" class=\"dataframe\">\n",
              "  <thead>\n",
              "    <tr style=\"text-align: right;\">\n",
              "      <th></th>\n",
              "      <th>Case_Type</th>\n",
              "      <th>Cases</th>\n",
              "      <th>Difference</th>\n",
              "      <th>Country_Region</th>\n",
              "    </tr>\n",
              "  </thead>\n",
              "  <tbody>\n",
              "    <tr>\n",
              "      <th>0</th>\n",
              "      <td>Confirmed</td>\n",
              "      <td>319</td>\n",
              "      <td>1</td>\n",
              "      <td>Mauritius</td>\n",
              "    </tr>\n",
              "    <tr>\n",
              "      <th>1</th>\n",
              "      <td>Deaths</td>\n",
              "      <td>0</td>\n",
              "      <td>0</td>\n",
              "      <td>Bahamas</td>\n",
              "    </tr>\n",
              "    <tr>\n",
              "      <th>2</th>\n",
              "      <td>Confirmed</td>\n",
              "      <td>16</td>\n",
              "      <td>0</td>\n",
              "      <td>Germany</td>\n",
              "    </tr>\n",
              "    <tr>\n",
              "      <th>3</th>\n",
              "      <td>Deaths</td>\n",
              "      <td>0</td>\n",
              "      <td>0</td>\n",
              "      <td>Canada</td>\n",
              "    </tr>\n",
              "    <tr>\n",
              "      <th>4</th>\n",
              "      <td>Deaths</td>\n",
              "      <td>0</td>\n",
              "      <td>0</td>\n",
              "      <td>Australia</td>\n",
              "    </tr>\n",
              "    <tr>\n",
              "      <th>...</th>\n",
              "      <td>...</td>\n",
              "      <td>...</td>\n",
              "      <td>...</td>\n",
              "      <td>...</td>\n",
              "    </tr>\n",
              "    <tr>\n",
              "      <th>538943</th>\n",
              "      <td>Confirmed</td>\n",
              "      <td>76</td>\n",
              "      <td>16</td>\n",
              "      <td>US</td>\n",
              "    </tr>\n",
              "    <tr>\n",
              "      <th>538990</th>\n",
              "      <td>Confirmed</td>\n",
              "      <td>483</td>\n",
              "      <td>-18</td>\n",
              "      <td>US</td>\n",
              "    </tr>\n",
              "    <tr>\n",
              "      <th>539063</th>\n",
              "      <td>Confirmed</td>\n",
              "      <td>198</td>\n",
              "      <td>11</td>\n",
              "      <td>US</td>\n",
              "    </tr>\n",
              "    <tr>\n",
              "      <th>539079</th>\n",
              "      <td>Confirmed</td>\n",
              "      <td>2716</td>\n",
              "      <td>584</td>\n",
              "      <td>US</td>\n",
              "    </tr>\n",
              "    <tr>\n",
              "      <th>539154</th>\n",
              "      <td>Confirmed</td>\n",
              "      <td>4309</td>\n",
              "      <td>234</td>\n",
              "      <td>US</td>\n",
              "    </tr>\n",
              "  </tbody>\n",
              "</table>\n",
              "<p>18910 rows × 4 columns</p>\n",
              "</div>\n",
              "      <button class=\"colab-df-convert\" onclick=\"convertToInteractive('df-3b28e7bc-3190-4268-be7d-e720bb70fc02')\"\n",
              "              title=\"Convert this dataframe to an interactive table.\"\n",
              "              style=\"display:none;\">\n",
              "        \n",
              "  <svg xmlns=\"http://www.w3.org/2000/svg\" height=\"24px\"viewBox=\"0 0 24 24\"\n",
              "       width=\"24px\">\n",
              "    <path d=\"M0 0h24v24H0V0z\" fill=\"none\"/>\n",
              "    <path d=\"M18.56 5.44l.94 2.06.94-2.06 2.06-.94-2.06-.94-.94-2.06-.94 2.06-2.06.94zm-11 1L8.5 8.5l.94-2.06 2.06-.94-2.06-.94L8.5 2.5l-.94 2.06-2.06.94zm10 10l.94 2.06.94-2.06 2.06-.94-2.06-.94-.94-2.06-.94 2.06-2.06.94z\"/><path d=\"M17.41 7.96l-1.37-1.37c-.4-.4-.92-.59-1.43-.59-.52 0-1.04.2-1.43.59L10.3 9.45l-7.72 7.72c-.78.78-.78 2.05 0 2.83L4 21.41c.39.39.9.59 1.41.59.51 0 1.02-.2 1.41-.59l7.78-7.78 2.81-2.81c.8-.78.8-2.07 0-2.86zM5.41 20L4 18.59l7.72-7.72 1.47 1.35L5.41 20z\"/>\n",
              "  </svg>\n",
              "      </button>\n",
              "      \n",
              "  <style>\n",
              "    .colab-df-container {\n",
              "      display:flex;\n",
              "      flex-wrap:wrap;\n",
              "      gap: 12px;\n",
              "    }\n",
              "\n",
              "    .colab-df-convert {\n",
              "      background-color: #E8F0FE;\n",
              "      border: none;\n",
              "      border-radius: 50%;\n",
              "      cursor: pointer;\n",
              "      display: none;\n",
              "      fill: #1967D2;\n",
              "      height: 32px;\n",
              "      padding: 0 0 0 0;\n",
              "      width: 32px;\n",
              "    }\n",
              "\n",
              "    .colab-df-convert:hover {\n",
              "      background-color: #E2EBFA;\n",
              "      box-shadow: 0px 1px 2px rgba(60, 64, 67, 0.3), 0px 1px 3px 1px rgba(60, 64, 67, 0.15);\n",
              "      fill: #174EA6;\n",
              "    }\n",
              "\n",
              "    [theme=dark] .colab-df-convert {\n",
              "      background-color: #3B4455;\n",
              "      fill: #D2E3FC;\n",
              "    }\n",
              "\n",
              "    [theme=dark] .colab-df-convert:hover {\n",
              "      background-color: #434B5C;\n",
              "      box-shadow: 0px 1px 3px 1px rgba(0, 0, 0, 0.15);\n",
              "      filter: drop-shadow(0px 1px 2px rgba(0, 0, 0, 0.3));\n",
              "      fill: #FFFFFF;\n",
              "    }\n",
              "  </style>\n",
              "\n",
              "      <script>\n",
              "        const buttonEl =\n",
              "          document.querySelector('#df-3b28e7bc-3190-4268-be7d-e720bb70fc02 button.colab-df-convert');\n",
              "        buttonEl.style.display =\n",
              "          google.colab.kernel.accessAllowed ? 'block' : 'none';\n",
              "\n",
              "        async function convertToInteractive(key) {\n",
              "          const element = document.querySelector('#df-3b28e7bc-3190-4268-be7d-e720bb70fc02');\n",
              "          const dataTable =\n",
              "            await google.colab.kernel.invokeFunction('convertToInteractive',\n",
              "                                                     [key], {});\n",
              "          if (!dataTable) return;\n",
              "\n",
              "          const docLinkHtml = 'Like what you see? Visit the ' +\n",
              "            '<a target=\"_blank\" href=https://colab.research.google.com/notebooks/data_table.ipynb>data table notebook</a>'\n",
              "            + ' to learn more about interactive tables.';\n",
              "          element.innerHTML = '';\n",
              "          dataTable['output_type'] = 'display_data';\n",
              "          await google.colab.output.renderOutput(dataTable, element);\n",
              "          const docLink = document.createElement('div');\n",
              "          docLink.innerHTML = docLinkHtml;\n",
              "          element.appendChild(docLink);\n",
              "        }\n",
              "      </script>\n",
              "    </div>\n",
              "  </div>\n",
              "  "
            ]
          },
          "metadata": {},
          "execution_count": 59
        }
      ],
      "source": [
        "# Tampilan data yang telah bebas missing/null values dan duplikat\n",
        "data"
      ]
    },
    {
      "cell_type": "code",
      "execution_count": 60,
      "metadata": {
        "colab": {
          "base_uri": "https://localhost:8080/"
        },
        "id": "S__x6DnX28Iy",
        "outputId": "cfc912c3-4485-41f2-c14a-281ccd08eeca"
      },
      "outputs": [
        {
          "output_type": "execute_result",
          "data": {
            "text/plain": [
              "False"
            ]
          },
          "metadata": {},
          "execution_count": 60
        }
      ],
      "source": [
        "# Periksa kembali data duplikat\n",
        "data.duplicated().any()"
      ]
    },
    {
      "cell_type": "code",
      "execution_count": 61,
      "metadata": {
        "colab": {
          "base_uri": "https://localhost:8080/",
          "height": 423
        },
        "id": "E1g7dRi33BEf",
        "outputId": "67d32c80-d1c6-49f2-df3b-853792f305b2"
      },
      "outputs": [
        {
          "output_type": "execute_result",
          "data": {
            "text/plain": [
              "        Case_Type  Cases  Difference  Country_Region\n",
              "0               0    319           1             109\n",
              "1               1      0           0              11\n",
              "2               0     16           0              65\n",
              "3               1      0           0              32\n",
              "4               1      0           0               8\n",
              "...           ...    ...         ...             ...\n",
              "538943          0     76          16             170\n",
              "538990          0    483         -18             170\n",
              "539063          0    198          11             170\n",
              "539079          0   2716         584             170\n",
              "539154          0   4309         234             170\n",
              "\n",
              "[18910 rows x 4 columns]"
            ],
            "text/html": [
              "\n",
              "  <div id=\"df-704cdf5b-879b-4364-81f9-f67f138b9198\">\n",
              "    <div class=\"colab-df-container\">\n",
              "      <div>\n",
              "<style scoped>\n",
              "    .dataframe tbody tr th:only-of-type {\n",
              "        vertical-align: middle;\n",
              "    }\n",
              "\n",
              "    .dataframe tbody tr th {\n",
              "        vertical-align: top;\n",
              "    }\n",
              "\n",
              "    .dataframe thead th {\n",
              "        text-align: right;\n",
              "    }\n",
              "</style>\n",
              "<table border=\"1\" class=\"dataframe\">\n",
              "  <thead>\n",
              "    <tr style=\"text-align: right;\">\n",
              "      <th></th>\n",
              "      <th>Case_Type</th>\n",
              "      <th>Cases</th>\n",
              "      <th>Difference</th>\n",
              "      <th>Country_Region</th>\n",
              "    </tr>\n",
              "  </thead>\n",
              "  <tbody>\n",
              "    <tr>\n",
              "      <th>0</th>\n",
              "      <td>0</td>\n",
              "      <td>319</td>\n",
              "      <td>1</td>\n",
              "      <td>109</td>\n",
              "    </tr>\n",
              "    <tr>\n",
              "      <th>1</th>\n",
              "      <td>1</td>\n",
              "      <td>0</td>\n",
              "      <td>0</td>\n",
              "      <td>11</td>\n",
              "    </tr>\n",
              "    <tr>\n",
              "      <th>2</th>\n",
              "      <td>0</td>\n",
              "      <td>16</td>\n",
              "      <td>0</td>\n",
              "      <td>65</td>\n",
              "    </tr>\n",
              "    <tr>\n",
              "      <th>3</th>\n",
              "      <td>1</td>\n",
              "      <td>0</td>\n",
              "      <td>0</td>\n",
              "      <td>32</td>\n",
              "    </tr>\n",
              "    <tr>\n",
              "      <th>4</th>\n",
              "      <td>1</td>\n",
              "      <td>0</td>\n",
              "      <td>0</td>\n",
              "      <td>8</td>\n",
              "    </tr>\n",
              "    <tr>\n",
              "      <th>...</th>\n",
              "      <td>...</td>\n",
              "      <td>...</td>\n",
              "      <td>...</td>\n",
              "      <td>...</td>\n",
              "    </tr>\n",
              "    <tr>\n",
              "      <th>538943</th>\n",
              "      <td>0</td>\n",
              "      <td>76</td>\n",
              "      <td>16</td>\n",
              "      <td>170</td>\n",
              "    </tr>\n",
              "    <tr>\n",
              "      <th>538990</th>\n",
              "      <td>0</td>\n",
              "      <td>483</td>\n",
              "      <td>-18</td>\n",
              "      <td>170</td>\n",
              "    </tr>\n",
              "    <tr>\n",
              "      <th>539063</th>\n",
              "      <td>0</td>\n",
              "      <td>198</td>\n",
              "      <td>11</td>\n",
              "      <td>170</td>\n",
              "    </tr>\n",
              "    <tr>\n",
              "      <th>539079</th>\n",
              "      <td>0</td>\n",
              "      <td>2716</td>\n",
              "      <td>584</td>\n",
              "      <td>170</td>\n",
              "    </tr>\n",
              "    <tr>\n",
              "      <th>539154</th>\n",
              "      <td>0</td>\n",
              "      <td>4309</td>\n",
              "      <td>234</td>\n",
              "      <td>170</td>\n",
              "    </tr>\n",
              "  </tbody>\n",
              "</table>\n",
              "<p>18910 rows × 4 columns</p>\n",
              "</div>\n",
              "      <button class=\"colab-df-convert\" onclick=\"convertToInteractive('df-704cdf5b-879b-4364-81f9-f67f138b9198')\"\n",
              "              title=\"Convert this dataframe to an interactive table.\"\n",
              "              style=\"display:none;\">\n",
              "        \n",
              "  <svg xmlns=\"http://www.w3.org/2000/svg\" height=\"24px\"viewBox=\"0 0 24 24\"\n",
              "       width=\"24px\">\n",
              "    <path d=\"M0 0h24v24H0V0z\" fill=\"none\"/>\n",
              "    <path d=\"M18.56 5.44l.94 2.06.94-2.06 2.06-.94-2.06-.94-.94-2.06-.94 2.06-2.06.94zm-11 1L8.5 8.5l.94-2.06 2.06-.94-2.06-.94L8.5 2.5l-.94 2.06-2.06.94zm10 10l.94 2.06.94-2.06 2.06-.94-2.06-.94-.94-2.06-.94 2.06-2.06.94z\"/><path d=\"M17.41 7.96l-1.37-1.37c-.4-.4-.92-.59-1.43-.59-.52 0-1.04.2-1.43.59L10.3 9.45l-7.72 7.72c-.78.78-.78 2.05 0 2.83L4 21.41c.39.39.9.59 1.41.59.51 0 1.02-.2 1.41-.59l7.78-7.78 2.81-2.81c.8-.78.8-2.07 0-2.86zM5.41 20L4 18.59l7.72-7.72 1.47 1.35L5.41 20z\"/>\n",
              "  </svg>\n",
              "      </button>\n",
              "      \n",
              "  <style>\n",
              "    .colab-df-container {\n",
              "      display:flex;\n",
              "      flex-wrap:wrap;\n",
              "      gap: 12px;\n",
              "    }\n",
              "\n",
              "    .colab-df-convert {\n",
              "      background-color: #E8F0FE;\n",
              "      border: none;\n",
              "      border-radius: 50%;\n",
              "      cursor: pointer;\n",
              "      display: none;\n",
              "      fill: #1967D2;\n",
              "      height: 32px;\n",
              "      padding: 0 0 0 0;\n",
              "      width: 32px;\n",
              "    }\n",
              "\n",
              "    .colab-df-convert:hover {\n",
              "      background-color: #E2EBFA;\n",
              "      box-shadow: 0px 1px 2px rgba(60, 64, 67, 0.3), 0px 1px 3px 1px rgba(60, 64, 67, 0.15);\n",
              "      fill: #174EA6;\n",
              "    }\n",
              "\n",
              "    [theme=dark] .colab-df-convert {\n",
              "      background-color: #3B4455;\n",
              "      fill: #D2E3FC;\n",
              "    }\n",
              "\n",
              "    [theme=dark] .colab-df-convert:hover {\n",
              "      background-color: #434B5C;\n",
              "      box-shadow: 0px 1px 3px 1px rgba(0, 0, 0, 0.15);\n",
              "      filter: drop-shadow(0px 1px 2px rgba(0, 0, 0, 0.3));\n",
              "      fill: #FFFFFF;\n",
              "    }\n",
              "  </style>\n",
              "\n",
              "      <script>\n",
              "        const buttonEl =\n",
              "          document.querySelector('#df-704cdf5b-879b-4364-81f9-f67f138b9198 button.colab-df-convert');\n",
              "        buttonEl.style.display =\n",
              "          google.colab.kernel.accessAllowed ? 'block' : 'none';\n",
              "\n",
              "        async function convertToInteractive(key) {\n",
              "          const element = document.querySelector('#df-704cdf5b-879b-4364-81f9-f67f138b9198');\n",
              "          const dataTable =\n",
              "            await google.colab.kernel.invokeFunction('convertToInteractive',\n",
              "                                                     [key], {});\n",
              "          if (!dataTable) return;\n",
              "\n",
              "          const docLinkHtml = 'Like what you see? Visit the ' +\n",
              "            '<a target=\"_blank\" href=https://colab.research.google.com/notebooks/data_table.ipynb>data table notebook</a>'\n",
              "            + ' to learn more about interactive tables.';\n",
              "          element.innerHTML = '';\n",
              "          dataTable['output_type'] = 'display_data';\n",
              "          await google.colab.output.renderOutput(dataTable, element);\n",
              "          const docLink = document.createElement('div');\n",
              "          docLink.innerHTML = docLinkHtml;\n",
              "          element.appendChild(docLink);\n",
              "        }\n",
              "      </script>\n",
              "    </div>\n",
              "  </div>\n",
              "  "
            ]
          },
          "metadata": {},
          "execution_count": 61
        }
      ],
      "source": [
        "# Encode Kolom Target\n",
        "from sklearn.preprocessing import MinMaxScaler, StandardScaler, LabelEncoder, OneHotEncoder, OrdinalEncoder\n",
        "encoder = LabelEncoder()\n",
        "data['Case_Type'] = encoder.fit_transform(data['Case_Type'])\n",
        "data['Country_Region']=encoder.fit_transform(data['Country_Region'])\n",
        "data"
      ]
    },
    {
      "cell_type": "code",
      "execution_count": 62,
      "metadata": {
        "colab": {
          "base_uri": "https://localhost:8080/"
        },
        "id": "QYPEIYmc4Cw7",
        "outputId": "04509666-5d07-45c4-929f-ab8bb9d8cacd"
      },
      "outputs": [
        {
          "output_type": "execute_result",
          "data": {
            "text/plain": [
              "0    15018\n",
              "1     3892\n",
              "Name: Case_Type, dtype: int64"
            ]
          },
          "metadata": {},
          "execution_count": 62
        }
      ],
      "source": [
        "# Jumlah kemunculan setiap nilai yang ada di dalam kolom 'Case_Type'.\n",
        "data['Case_Type'].value_counts()"
      ]
    },
    {
      "cell_type": "code",
      "execution_count": 63,
      "metadata": {
        "id": "LjZdpyyWOVhF"
      },
      "outputs": [],
      "source": [
        "data['Case_Type']=data['Case_Type'].astype('category')\n",
        "data['Country_Region']=data['Country_Region'].astype('category')"
      ]
    },
    {
      "cell_type": "code",
      "execution_count": 64,
      "metadata": {
        "id": "S15deB4xX-bv"
      },
      "outputs": [],
      "source": [
        "# Normalisasi data menggunakan StandardScaler\n",
        "scaler = StandardScaler()\n",
        "col=['Cases','Difference']\n",
        "scaled_ds=scaler.fit_transform(data[col])"
      ]
    },
    {
      "cell_type": "code",
      "execution_count": 65,
      "metadata": {
        "colab": {
          "base_uri": "https://localhost:8080/",
          "height": 561
        },
        "id": "XRqnBqVubeJG",
        "outputId": "6b7a780c-2118-4353-df1e-1124cfd2b506"
      },
      "outputs": [
        {
          "output_type": "stream",
          "name": "stdout",
          "text": [
            "Elbow Method to determine the number of clusters to be formed:\n"
          ]
        },
        {
          "output_type": "display_data",
          "data": {
            "text/plain": [
              "<Figure size 800x550 with 2 Axes>"
            ],
            "image/png": "[encoded data removed]"
          },
          "metadata": {}
        },
        {
          "output_type": "execute_result",
          "data": {
            "text/plain": [
              "<Axes: title={'center': 'Distortion Score Elbow for KMeans Clustering'}, xlabel='k', ylabel='distortion score'>"
            ]
          },
          "metadata": {},
          "execution_count": 65
        }
      ],
      "source": [
        "# Analisis clustering dengan data yang telah dinormalisasi\n",
        "\n",
        "# Mengabaikan pesan peringatan yang muncul selama program dijalankan\n",
        "import warnings\n",
        "warnings.filterwarnings('ignore')\n",
        "# Import beberapa algoritma clustering\n",
        "from sklearn.cluster import KMeans, DBSCAN, AgglomerativeClustering, SpectralClustering\n",
        "from yellowbrick.cluster import KElbowVisualizer\n",
        "print('Elbow Method to determine the number of clusters to be formed:')\n",
        "# Analisis Elbow Method pada data yang telah dinormalisasi\n",
        "Elbow_M = KElbowVisualizer(KMeans(), k=10) # KElbowVisualizer adalah alat visualisasi yang membantu dalam memilih jumlah klaster yang optimal untuk set data, # Algoritma clustering yang digunakan untuk analisis Elbow Method\n",
        "# melakukan pemanggilan metode 'fit' pada objek Elbow_M dengan memberikan parameter data yang telah dinormalisasi.\n",
        "Elbow_M.fit(scaled_ds)\n",
        "# Menampilkan hasil analisis Elbow Method dalam bentuk visualisasi\n",
        "Elbow_M.show()"
      ]
    },
    {
      "cell_type": "code",
      "execution_count": 66,
      "metadata": {
        "id": "ir4axPcJbz93"
      },
      "outputs": [],
      "source": [
        "# Implementasi dari algoritma KMeans clustering pada data yang telah dinormalisasi dengan menggunakan StandardScaler.\n",
        "kmeans = KMeans(n_clusters=5)\n",
        "label = kmeans.fit_predict(scaled_ds)"
      ]
    },
    {
      "cell_type": "code",
      "execution_count": 67,
      "metadata": {
        "id": "SW5Jhjn7b9C_"
      },
      "outputs": [],
      "source": [
        "data['Cluster']=label"
      ]
    },
    {
      "cell_type": "code",
      "execution_count": 68,
      "metadata": {
        "colab": {
          "base_uri": "https://localhost:8080/"
        },
        "id": "QiiKlIrNcDZy",
        "outputId": "ee1578eb-4b69-4007-efb3-24e4aeb1a039"
      },
      "outputs": [
        {
          "output_type": "execute_result",
          "data": {
            "text/plain": [
              "2    18293\n",
              "0      425\n",
              "1       81\n",
              "3       56\n",
              "4       55\n",
              "Name: Cluster, dtype: int64"
            ]
          },
          "metadata": {},
          "execution_count": 68
        }
      ],
      "source": [
        "data.Cluster.value_counts()"
      ]
    },
    {
      "cell_type": "code",
      "execution_count": 69,
      "metadata": {
        "colab": {
          "base_uri": "https://localhost:8080/",
          "height": 1000
        },
        "id": "cbAA5epzcGlu",
        "outputId": "1900fdfe-e186-4b31-c860-45e38a0607d9"
      },
      "outputs": [
        {
          "output_type": "display_data",
          "data": {
            "text/plain": [
              "<Figure size 1500x1500 with 1 Axes>"
            ],
            "image/png": "[encoded data removed]"
          },
          "metadata": {}
        }
      ],
      "source": [
        "# Visualisasi hasil clustering menggunakan scatter plot\n",
        "import matplotlib.pyplot as plt\n",
        "# Menghitung titik centroid untuk setiap kategori\n",
        "centroids = data.groupby('Cluster')[['Cases', 'Difference']].mean()\n",
        "\n",
        "# Membuat plot untuk masing-masing kategori dan centroid\n",
        "fig, ax = plt.subplots(figsize=(15, 15))\n",
        "colors = ['red', 'green', 'blue', 'orange', 'purple']\n",
        "for label, color in enumerate(colors[:len(centroids)]):\n",
        "    indices = data['Cluster'] == label\n",
        "    ax.scatter(data.loc[indices, 'Cases'], data.loc[indices, 'Difference'], c=color, s=50)\n",
        "    centroid = centroids.loc[label]\n",
        "    ax.scatter(centroid[0], centroid[1], marker='x', s=200, linewidths=3, color='black')\n",
        "\n",
        "# Menambahkan judul dan label sumbu\n",
        "ax.set_title('Plot Kategori dengan Titik Centroidnya')\n",
        "ax.set_xlabel('col1')\n",
        "ax.set_ylabel('col2')\n",
        "\n",
        "# Menampilkan plot\n",
        "plt.show()"
      ]
    },
    {
      "cell_type": "code",
      "execution_count": 70,
      "metadata": {
        "colab": {
          "base_uri": "https://localhost:8080/"
        },
        "id": "fzFU6vlW6qCu",
        "outputId": "1dd78c26-44e1-4afe-dd8f-570cafae56e4"
      },
      "outputs": [
        {
          "output_type": "execute_result",
          "data": {
            "text/plain": [
              "Index(['Case_Type', 'Cases', 'Difference', 'Country_Region', 'Cluster'], dtype='object')"
            ]
          },
          "metadata": {},
          "execution_count": 70
        }
      ],
      "source": [
        "data.columns"
      ]
    },
    {
      "cell_type": "code",
      "execution_count": 71,
      "metadata": {
        "id": "8cD6TweZ6rK3"
      },
      "outputs": [],
      "source": [
        "from sklearn.model_selection import train_test_split\n",
        "X = data[['Case_Type', 'Cases', 'Difference', 'Country_Region']]\n",
        "y = data['Cluster']\n",
        "# for resampling \n",
        "from imblearn.over_sampling import RandomOverSampler\n",
        "oversample = RandomOverSampler(sampling_strategy='auto')\n",
        "\n",
        "X_ros, y_ros = oversample.fit_resample(X, y)"
      ]
    },
    {
      "cell_type": "code",
      "execution_count": 72,
      "metadata": {
        "id": "K_wJuPDX6wpE"
      },
      "outputs": [],
      "source": [
        "from sklearn.model_selection import train_test_split\n",
        "X_train, X_test, y_train, y_test= train_test_split(X_ros,y_ros, test_size=0.2, random_state=42)"
      ]
    },
    {
      "cell_type": "code",
      "execution_count": 73,
      "metadata": {
        "id": "BL68zn586xz0"
      },
      "outputs": [],
      "source": [
        "from sklearn.preprocessing import StandardScaler\n",
        "# Memilih kolom numerik\n",
        "columns = ['Cases','Difference']\n",
        "\n",
        "# Membuat objek scaler\n",
        "sc = StandardScaler()\n",
        "\n",
        "# Melakukan z-score pada dataset\n",
        "sc_Xtrain= sc.fit_transform(X_train[columns])\n",
        "sc_Xtest=sc.fit_transform(X_test[columns])"
      ]
    },
    {
      "cell_type": "code",
      "execution_count": 74,
      "metadata": {
        "id": "BfDeFh6K61m5"
      },
      "outputs": [],
      "source": [
        "X_train[columns]=sc_Xtrain\n",
        "X_test[columns]=sc_Xtest"
      ]
    },
    {
      "cell_type": "code",
      "execution_count": 75,
      "metadata": {
        "colab": {
          "base_uri": "https://localhost:8080/",
          "height": 423
        },
        "id": "y-EwlP6W65iz",
        "outputId": "ee5c8e01-be7b-4a96-c5fc-46c3883f8668"
      },
      "outputs": [
        {
          "output_type": "execute_result",
          "data": {
            "text/plain": [
              "      Case_Type     Cases  Difference Country_Region\n",
              "41248         0  0.628379    0.995627            174\n",
              "83489         0  0.430818   -0.240539             80\n",
              "53650         0  0.086420    1.347622             36\n",
              "63566         0  2.376094    0.929378            155\n",
              "16293         0 -1.107609   -0.874638            170\n",
              "...         ...       ...         ...            ...\n",
              "6265          0 -1.110144   -0.908854             36\n",
              "54886         0  0.412014    1.001452             84\n",
              "76820         0  0.349430   -0.755244             36\n",
              "860           0 -1.112900   -0.909218             16\n",
              "15795         1 -1.112040   -0.905942            170\n",
              "\n",
              "[73172 rows x 4 columns]"
            ],
            "text/html": [
              "\n",
              "  <div id=\"df-cd0a8ec1-a3ff-473a-80d1-7d61b3597e00\">\n",
              "    <div class=\"colab-df-container\">\n",
              "      <div>\n",
              "<style scoped>\n",
              "    .dataframe tbody tr th:only-of-type {\n",
              "        vertical-align: middle;\n",
              "    }\n",
              "\n",
              "    .dataframe tbody tr th {\n",
              "        vertical-align: top;\n",
              "    }\n",
              "\n",
              "    .dataframe thead th {\n",
              "        text-align: right;\n",
              "    }\n",
              "</style>\n",
              "<table border=\"1\" class=\"dataframe\">\n",
              "  <thead>\n",
              "    <tr style=\"text-align: right;\">\n",
              "      <th></th>\n",
              "      <th>Case_Type</th>\n",
              "      <th>Cases</th>\n",
              "      <th>Difference</th>\n",
              "      <th>Country_Region</th>\n",
              "    </tr>\n",
              "  </thead>\n",
              "  <tbody>\n",
              "    <tr>\n",
              "      <th>41248</th>\n",
              "      <td>0</td>\n",
              "      <td>0.628379</td>\n",
              "      <td>0.995627</td>\n",
              "      <td>174</td>\n",
              "    </tr>\n",
              "    <tr>\n",
              "      <th>83489</th>\n",
              "      <td>0</td>\n",
              "      <td>0.430818</td>\n",
              "      <td>-0.240539</td>\n",
              "      <td>80</td>\n",
              "    </tr>\n",
              "    <tr>\n",
              "      <th>53650</th>\n",
              "      <td>0</td>\n",
              "      <td>0.086420</td>\n",
              "      <td>1.347622</td>\n",
              "      <td>36</td>\n",
              "    </tr>\n",
              "    <tr>\n",
              "      <th>63566</th>\n",
              "      <td>0</td>\n",
              "      <td>2.376094</td>\n",
              "      <td>0.929378</td>\n",
              "      <td>155</td>\n",
              "    </tr>\n",
              "    <tr>\n",
              "      <th>16293</th>\n",
              "      <td>0</td>\n",
              "      <td>-1.107609</td>\n",
              "      <td>-0.874638</td>\n",
              "      <td>170</td>\n",
              "    </tr>\n",
              "    <tr>\n",
              "      <th>...</th>\n",
              "      <td>...</td>\n",
              "      <td>...</td>\n",
              "      <td>...</td>\n",
              "      <td>...</td>\n",
              "    </tr>\n",
              "    <tr>\n",
              "      <th>6265</th>\n",
              "      <td>0</td>\n",
              "      <td>-1.110144</td>\n",
              "      <td>-0.908854</td>\n",
              "      <td>36</td>\n",
              "    </tr>\n",
              "    <tr>\n",
              "      <th>54886</th>\n",
              "      <td>0</td>\n",
              "      <td>0.412014</td>\n",
              "      <td>1.001452</td>\n",
              "      <td>84</td>\n",
              "    </tr>\n",
              "    <tr>\n",
              "      <th>76820</th>\n",
              "      <td>0</td>\n",
              "      <td>0.349430</td>\n",
              "      <td>-0.755244</td>\n",
              "      <td>36</td>\n",
              "    </tr>\n",
              "    <tr>\n",
              "      <th>860</th>\n",
              "      <td>0</td>\n",
              "      <td>-1.112900</td>\n",
              "      <td>-0.909218</td>\n",
              "      <td>16</td>\n",
              "    </tr>\n",
              "    <tr>\n",
              "      <th>15795</th>\n",
              "      <td>1</td>\n",
              "      <td>-1.112040</td>\n",
              "      <td>-0.905942</td>\n",
              "      <td>170</td>\n",
              "    </tr>\n",
              "  </tbody>\n",
              "</table>\n",
              "<p>73172 rows × 4 columns</p>\n",
              "</div>\n",
              "      <button class=\"colab-df-convert\" onclick=\"convertToInteractive('df-cd0a8ec1-a3ff-473a-80d1-7d61b3597e00')\"\n",
              "              title=\"Convert this dataframe to an interactive table.\"\n",
              "              style=\"display:none;\">\n",
              "        \n",
              "  <svg xmlns=\"http://www.w3.org/2000/svg\" height=\"24px\"viewBox=\"0 0 24 24\"\n",
              "       width=\"24px\">\n",
              "    <path d=\"M0 0h24v24H0V0z\" fill=\"none\"/>\n",
              "    <path d=\"M18.56 5.44l.94 2.06.94-2.06 2.06-.94-2.06-.94-.94-2.06-.94 2.06-2.06.94zm-11 1L8.5 8.5l.94-2.06 2.06-.94-2.06-.94L8.5 2.5l-.94 2.06-2.06.94zm10 10l.94 2.06.94-2.06 2.06-.94-2.06-.94-.94-2.06-.94 2.06-2.06.94z\"/><path d=\"M17.41 7.96l-1.37-1.37c-.4-.4-.92-.59-1.43-.59-.52 0-1.04.2-1.43.59L10.3 9.45l-7.72 7.72c-.78.78-.78 2.05 0 2.83L4 21.41c.39.39.9.59 1.41.59.51 0 1.02-.2 1.41-.59l7.78-7.78 2.81-2.81c.8-.78.8-2.07 0-2.86zM5.41 20L4 18.59l7.72-7.72 1.47 1.35L5.41 20z\"/>\n",
              "  </svg>\n",
              "      </button>\n",
              "      \n",
              "  <style>\n",
              "    .colab-df-container {\n",
              "      display:flex;\n",
              "      flex-wrap:wrap;\n",
              "      gap: 12px;\n",
              "    }\n",
              "\n",
              "    .colab-df-convert {\n",
              "      background-color: #E8F0FE;\n",
              "      border: none;\n",
              "      border-radius: 50%;\n",
              "      cursor: pointer;\n",
              "      display: none;\n",
              "      fill: #1967D2;\n",
              "      height: 32px;\n",
              "      padding: 0 0 0 0;\n",
              "      width: 32px;\n",
              "    }\n",
              "\n",
              "    .colab-df-convert:hover {\n",
              "      background-color: #E2EBFA;\n",
              "      box-shadow: 0px 1px 2px rgba(60, 64, 67, 0.3), 0px 1px 3px 1px rgba(60, 64, 67, 0.15);\n",
              "      fill: #174EA6;\n",
              "    }\n",
              "\n",
              "    [theme=dark] .colab-df-convert {\n",
              "      background-color: #3B4455;\n",
              "      fill: #D2E3FC;\n",
              "    }\n",
              "\n",
              "    [theme=dark] .colab-df-convert:hover {\n",
              "      background-color: #434B5C;\n",
              "      box-shadow: 0px 1px 3px 1px rgba(0, 0, 0, 0.15);\n",
              "      filter: drop-shadow(0px 1px 2px rgba(0, 0, 0, 0.3));\n",
              "      fill: #FFFFFF;\n",
              "    }\n",
              "  </style>\n",
              "\n",
              "      <script>\n",
              "        const buttonEl =\n",
              "          document.querySelector('#df-cd0a8ec1-a3ff-473a-80d1-7d61b3597e00 button.colab-df-convert');\n",
              "        buttonEl.style.display =\n",
              "          google.colab.kernel.accessAllowed ? 'block' : 'none';\n",
              "\n",
              "        async function convertToInteractive(key) {\n",
              "          const element = document.querySelector('#df-cd0a8ec1-a3ff-473a-80d1-7d61b3597e00');\n",
              "          const dataTable =\n",
              "            await google.colab.kernel.invokeFunction('convertToInteractive',\n",
              "                                                     [key], {});\n",
              "          if (!dataTable) return;\n",
              "\n",
              "          const docLinkHtml = 'Like what you see? Visit the ' +\n",
              "            '<a target=\"_blank\" href=https://colab.research.google.com/notebooks/data_table.ipynb>data table notebook</a>'\n",
              "            + ' to learn more about interactive tables.';\n",
              "          element.innerHTML = '';\n",
              "          dataTable['output_type'] = 'display_data';\n",
              "          await google.colab.output.renderOutput(dataTable, element);\n",
              "          const docLink = document.createElement('div');\n",
              "          docLink.innerHTML = docLinkHtml;\n",
              "          element.appendChild(docLink);\n",
              "        }\n",
              "      </script>\n",
              "    </div>\n",
              "  </div>\n",
              "  "
            ]
          },
          "metadata": {},
          "execution_count": 75
        }
      ],
      "source": [
        "X_train"
      ]
    },
    {
      "cell_type": "markdown",
      "metadata": {
        "id": "cxOC0YiEfR-4"
      },
      "source": [
        "# KNN Classification"
      ]
    },
    {
      "cell_type": "code",
      "execution_count": 76,
      "metadata": {
        "colab": {
          "base_uri": "https://localhost:8080/",
          "height": 75
        },
        "id": "gVN594sn7AMS",
        "outputId": "99736b53-5e3a-431c-883d-f733e434baab"
      },
      "outputs": [
        {
          "output_type": "execute_result",
          "data": {
            "text/plain": [
              "KNeighborsClassifier()"
            ],
            "text/html": [
              "<style>#sk-container-id-2 {color: black;background-color: white;}#sk-container-id-2 pre{padding: 0;}#sk-container-id-2 div.sk-toggleable {background-color: white;}#sk-container-id-2 label.sk-toggleable__label {cursor: pointer;display: block;width: 100%;margin-bottom: 0;padding: 0.3em;box-sizing: border-box;text-align: center;}#sk-container-id-2 label.sk-toggleable__label-arrow:before {content: \"▸\";float: left;margin-right: 0.25em;color: #696969;}#sk-container-id-2 label.sk-toggleable__label-arrow:hover:before {color: black;}#sk-container-id-2 div.sk-estimator:hover label.sk-toggleable__label-arrow:before {color: black;}#sk-container-id-2 div.sk-toggleable__content {max-height: 0;max-width: 0;overflow: hidden;text-align: left;background-color: #f0f8ff;}#sk-container-id-2 div.sk-toggleable__content pre {margin: 0.2em;color: black;border-radius: 0.25em;background-color: #f0f8ff;}#sk-container-id-2 input.sk-toggleable__control:checked~div.sk-toggleable__content {max-height: 200px;max-width: 100%;overflow: auto;}#sk-container-id-2 input.sk-toggleable__control:checked~label.sk-toggleable__label-arrow:before {content: \"▾\";}#sk-container-id-2 div.sk-estimator input.sk-toggleable__control:checked~label.sk-toggleable__label {background-color: #d4ebff;}#sk-container-id-2 div.sk-label input.sk-toggleable__control:checked~label.sk-toggleable__label {background-color: #d4ebff;}#sk-container-id-2 input.sk-hidden--visually {border: 0;clip: rect(1px 1px 1px 1px);clip: rect(1px, 1px, 1px, 1px);height: 1px;margin: -1px;overflow: hidden;padding: 0;position: absolute;width: 1px;}#sk-container-id-2 div.sk-estimator {font-family: monospace;background-color: #f0f8ff;border: 1px dotted black;border-radius: 0.25em;box-sizing: border-box;margin-bottom: 0.5em;}#sk-container-id-2 div.sk-estimator:hover {background-color: #d4ebff;}#sk-container-id-2 div.sk-parallel-item::after {content: \"\";width: 100%;border-bottom: 1px solid gray;flex-grow: 1;}#sk-container-id-2 div.sk-label:hover label.sk-toggleable__label {background-color: #d4ebff;}#sk-container-id-2 div.sk-serial::before {content: \"\";position: absolute;border-left: 1px solid gray;box-sizing: border-box;top: 0;bottom: 0;left: 50%;z-index: 0;}#sk-container-id-2 div.sk-serial {display: flex;flex-direction: column;align-items: center;background-color: white;padding-right: 0.2em;padding-left: 0.2em;position: relative;}#sk-container-id-2 div.sk-item {position: relative;z-index: 1;}#sk-container-id-2 div.sk-parallel {display: flex;align-items: stretch;justify-content: center;background-color: white;position: relative;}#sk-container-id-2 div.sk-item::before, #sk-container-id-2 div.sk-parallel-item::before {content: \"\";position: absolute;border-left: 1px solid gray;box-sizing: border-box;top: 0;bottom: 0;left: 50%;z-index: -1;}#sk-container-id-2 div.sk-parallel-item {display: flex;flex-direction: column;z-index: 1;position: relative;background-color: white;}#sk-container-id-2 div.sk-parallel-item:first-child::after {align-self: flex-end;width: 50%;}#sk-container-id-2 div.sk-parallel-item:last-child::after {align-self: flex-start;width: 50%;}#sk-container-id-2 div.sk-parallel-item:only-child::after {width: 0;}#sk-container-id-2 div.sk-dashed-wrapped {border: 1px dashed gray;margin: 0 0.4em 0.5em 0.4em;box-sizing: border-box;padding-bottom: 0.4em;background-color: white;}#sk-container-id-2 div.sk-label label {font-family: monospace;font-weight: bold;display: inline-block;line-height: 1.2em;}#sk-container-id-2 div.sk-label-container {text-align: center;}#sk-container-id-2 div.sk-container {/* jupyter's `normalize.less` sets `[hidden] { display: none; }` but bootstrap.min.css set `[hidden] { display: none !important; }` so we also need the `!important` here to be able to override the default hidden behavior on the sphinx rendered scikit-learn.org. See: https://github.com/scikit-learn/scikit-learn/issues/21755 */display: inline-block !important;position: relative;}#sk-container-id-2 div.sk-text-repr-fallback {display: none;}</style><div id=\"sk-container-id-2\" class=\"sk-top-container\"><div class=\"sk-text-repr-fallback\"><pre>KNeighborsClassifier()</pre><b>In a Jupyter environment, please rerun this cell to show the HTML representation or trust the notebook. <br />On GitHub, the HTML representation is unable to render, please try loading this page with nbviewer.org.</b></div><div class=\"sk-container\" hidden><div class=\"sk-item\"><div class=\"sk-estimator sk-toggleable\"><input class=\"sk-toggleable__control sk-hidden--visually\" id=\"sk-estimator-id-2\" type=\"checkbox\" checked><label for=\"sk-estimator-id-2\" class=\"sk-toggleable__label sk-toggleable__label-arrow\">KNeighborsClassifier</label><div class=\"sk-toggleable__content\"><pre>KNeighborsClassifier()</pre></div></div></div></div></div>"
            ]
          },
          "metadata": {},
          "execution_count": 76
        }
      ],
      "source": [
        "# Implementasi dari algoritma K-Nearest Neighbors (KNN) pada data yang telah di-split menjadi data training (X_train, y_train) dan data testing.\n",
        "from sklearn.neighbors import KNeighborsClassifier\n",
        "knn = KNeighborsClassifier()\n",
        "knn.fit(X_train, y_train)"
      ]
    },
    {
      "cell_type": "code",
      "execution_count": 77,
      "metadata": {
        "colab": {
          "base_uri": "https://localhost:8080/"
        },
        "id": "P_PS4cFv7Edb",
        "outputId": "0b04a776-e201-4b0d-b40a-e7c932fa097b"
      },
      "outputs": [
        {
          "output_type": "execute_result",
          "data": {
            "text/plain": [
              "array([3, 3, 4, ..., 3, 1, 4], dtype=int32)"
            ]
          },
          "metadata": {},
          "execution_count": 77
        }
      ],
      "source": [
        "knn_pred = knn.predict(X_test)\n",
        "knn_pred"
      ]
    },
    {
      "cell_type": "code",
      "execution_count": 78,
      "metadata": {
        "colab": {
          "base_uri": "https://localhost:8080/"
        },
        "id": "Kl3i1Zut7IpV",
        "outputId": "8fa6e39b-3245-4649-fb38-8fd6d1458aa9"
      },
      "outputs": [
        {
          "output_type": "execute_result",
          "data": {
            "text/plain": [
              "0.9997813371234898"
            ]
          },
          "metadata": {},
          "execution_count": 78
        }
      ],
      "source": [
        "from sklearn.metrics import accuracy_score, f1_score, recall_score, precision_score, classification_report, confusion_matrix\n",
        "akurasi=accuracy_score(y_test, knn_pred)\n",
        "akurasi"
      ]
    },
    {
      "cell_type": "code",
      "execution_count": 79,
      "metadata": {
        "colab": {
          "base_uri": "https://localhost:8080/",
          "height": 524
        },
        "id": "WOZ6u_Jc7S_b",
        "outputId": "1afd941d-e159-4d85-f0a0-aaa0c4bfb72c"
      },
      "outputs": [
        {
          "output_type": "display_data",
          "data": {
            "text/plain": [
              "<Figure size 800x550 with 2 Axes>"
            ],
            "image/png": "[encoded data removed]"
          },
          "metadata": {}
        }
      ],
      "source": [
        "# Data klasifikasi yang dihasilkan oleh model\n",
        "true_labels = np.array(knn_pred)\n",
        "predicted_labels = np.array(knn_pred)\n",
        "\n",
        "# Menghitung confusion matrix\n",
        "cm = confusion_matrix(true_labels, predicted_labels)\n",
        "\n",
        "# Membuat heatmap dari confusion matrix\n",
        "sns.heatmap(cm, annot=True, cmap=\"Blues\", fmt='d')\n",
        "plt.title(\"Confusion Matrix\")\n",
        "plt.xlabel(\"Predicted Labels\")\n",
        "plt.ylabel(\"True Labels\")\n",
        "plt.show()"
      ]
    },
    {
      "cell_type": "code",
      "execution_count": 80,
      "metadata": {
        "id": "m2sEGsR8Lzmt"
      },
      "outputs": [],
      "source": [
        "model = Sequential()\n",
        "model.add(Dense(32,activation='relu', input_shape=(X_train.shape[1],)))\n",
        "model.add(Dense(32,activation='relu'))\n",
        "model.add(Dense(32,activation='relu'))\n",
        "model.add(Dense(32,activation='relu'))\n",
        "model.add(Dense(5,activation='softmax'))\n",
        "model.compile(loss='sparse_categorical_crossentropy',optimizer='adam',metrics=['accuracy'])"
      ]
    },
    {
      "cell_type": "code",
      "execution_count": 81,
      "metadata": {
        "colab": {
          "base_uri": "https://localhost:8080/"
        },
        "id": "DJh-fdWShRYy",
        "outputId": "bd201f30-23ab-405e-a95d-9d12ffaeee13"
      },
      "outputs": [
        {
          "output_type": "stream",
          "name": "stdout",
          "text": [
            "Model: \"sequential_1\"\n",
            "_________________________________________________________________\n",
            " Layer (type)                Output Shape              Param #   \n",
            "=================================================================\n",
            " dense_5 (Dense)             (None, 32)                160       \n",
            "                                                                 \n",
            " dense_6 (Dense)             (None, 32)                1056      \n",
            "                                                                 \n",
            " dense_7 (Dense)             (None, 32)                1056      \n",
            "                                                                 \n",
            " dense_8 (Dense)             (None, 32)                1056      \n",
            "                                                                 \n",
            " dense_9 (Dense)             (None, 5)                 165       \n",
            "                                                                 \n",
            "=================================================================\n",
            "Total params: 3,493\n",
            "Trainable params: 3,493\n",
            "Non-trainable params: 0\n",
            "_________________________________________________________________\n",
            "Epoch 1/100\n",
            "572/572 [==============================] - 4s 6ms/step - loss: 0.8125 - accuracy: 0.6980 - val_loss: 0.2711 - val_accuracy: 0.8644\n",
            "Epoch 2/100\n",
            "572/572 [==============================] - 2s 3ms/step - loss: 0.2144 - accuracy: 0.9197 - val_loss: 0.1974 - val_accuracy: 0.8939\n",
            "Epoch 3/100\n",
            "572/572 [==============================] - 2s 3ms/step - loss: 0.1174 - accuracy: 0.9662 - val_loss: 0.0757 - val_accuracy: 0.9900\n",
            "Epoch 4/100\n",
            "572/572 [==============================] - 2s 3ms/step - loss: 0.0753 - accuracy: 0.9807 - val_loss: 0.1014 - val_accuracy: 0.9572\n",
            "Epoch 5/100\n",
            "572/572 [==============================] - 2s 3ms/step - loss: 0.0711 - accuracy: 0.9777 - val_loss: 0.1364 - val_accuracy: 0.9406\n",
            "Epoch 6/100\n",
            "572/572 [==============================] - 2s 3ms/step - loss: 0.0516 - accuracy: 0.9840 - val_loss: 0.0420 - val_accuracy: 0.9851\n",
            "Epoch 7/100\n",
            "572/572 [==============================] - 4s 6ms/step - loss: 0.0505 - accuracy: 0.9824 - val_loss: 0.0456 - val_accuracy: 0.9831\n",
            "Epoch 8/100\n",
            "572/572 [==============================] - 2s 3ms/step - loss: 0.0520 - accuracy: 0.9823 - val_loss: 0.0255 - val_accuracy: 0.9935\n",
            "Epoch 9/100\n",
            "572/572 [==============================] - 2s 3ms/step - loss: 0.0620 - accuracy: 0.9806 - val_loss: 0.0295 - val_accuracy: 0.9954\n",
            "Epoch 10/100\n",
            "572/572 [==============================] - 2s 3ms/step - loss: 0.0441 - accuracy: 0.9855 - val_loss: 0.0248 - val_accuracy: 0.9958\n",
            "Epoch 11/100\n",
            "572/572 [==============================] - 2s 3ms/step - loss: 0.0362 - accuracy: 0.9891 - val_loss: 0.0217 - val_accuracy: 0.9933\n",
            "Epoch 12/100\n",
            "572/572 [==============================] - 2s 3ms/step - loss: 0.0304 - accuracy: 0.9906 - val_loss: 0.0307 - val_accuracy: 0.9845\n",
            "Epoch 13/100\n",
            "572/572 [==============================] - 2s 4ms/step - loss: 0.0476 - accuracy: 0.9854 - val_loss: 0.0722 - val_accuracy: 0.9702\n",
            "Epoch 14/100\n",
            "572/572 [==============================] - 2s 4ms/step - loss: 0.0304 - accuracy: 0.9900 - val_loss: 0.0214 - val_accuracy: 0.9958\n",
            "Epoch 15/100\n",
            "572/572 [==============================] - 2s 3ms/step - loss: 0.0338 - accuracy: 0.9885 - val_loss: 0.0615 - val_accuracy: 0.9739\n",
            "Epoch 16/100\n",
            "572/572 [==============================] - 2s 3ms/step - loss: 0.0413 - accuracy: 0.9860 - val_loss: 0.0144 - val_accuracy: 0.9977\n",
            "Epoch 17/100\n",
            "572/572 [==============================] - 2s 3ms/step - loss: 0.0241 - accuracy: 0.9921 - val_loss: 0.0152 - val_accuracy: 0.9995\n",
            "Epoch 18/100\n",
            "572/572 [==============================] - 2s 3ms/step - loss: 0.0323 - accuracy: 0.9905 - val_loss: 0.0265 - val_accuracy: 0.9907\n",
            "Epoch 19/100\n",
            "572/572 [==============================] - 2s 3ms/step - loss: 0.0238 - accuracy: 0.9925 - val_loss: 0.0136 - val_accuracy: 0.9994\n",
            "Epoch 20/100\n",
            "572/572 [==============================] - 3s 5ms/step - loss: 0.0299 - accuracy: 0.9900 - val_loss: 0.0491 - val_accuracy: 0.9846\n",
            "Epoch 21/100\n",
            "572/572 [==============================] - 2s 3ms/step - loss: 0.0311 - accuracy: 0.9893 - val_loss: 0.0913 - val_accuracy: 0.9628\n",
            "Epoch 22/100\n",
            "572/572 [==============================] - 2s 3ms/step - loss: 0.0435 - accuracy: 0.9881 - val_loss: 0.0629 - val_accuracy: 0.9790\n",
            "Epoch 23/100\n",
            "572/572 [==============================] - 2s 3ms/step - loss: 0.0368 - accuracy: 0.9879 - val_loss: 0.0133 - val_accuracy: 0.9990\n",
            "Epoch 24/100\n",
            "572/572 [==============================] - 2s 3ms/step - loss: 0.0223 - accuracy: 0.9926 - val_loss: 0.1084 - val_accuracy: 0.9713\n",
            "Epoch 25/100\n",
            "572/572 [==============================] - 2s 3ms/step - loss: 0.0286 - accuracy: 0.9902 - val_loss: 0.0413 - val_accuracy: 0.9825\n",
            "Epoch 26/100\n",
            "572/572 [==============================] - 3s 5ms/step - loss: 0.0185 - accuracy: 0.9944 - val_loss: 0.0720 - val_accuracy: 0.9802\n",
            "Epoch 27/100\n",
            "572/572 [==============================] - 2s 4ms/step - loss: 0.0285 - accuracy: 0.9901 - val_loss: 0.0100 - val_accuracy: 0.9954\n",
            "Epoch 28/100\n",
            "572/572 [==============================] - 2s 3ms/step - loss: 0.0203 - accuracy: 0.9939 - val_loss: 0.0790 - val_accuracy: 0.9722\n",
            "Epoch 29/100\n",
            "572/572 [==============================] - 2s 3ms/step - loss: 0.0406 - accuracy: 0.9871 - val_loss: 0.0149 - val_accuracy: 0.9964\n",
            "Epoch 30/100\n",
            "572/572 [==============================] - 2s 3ms/step - loss: 0.0215 - accuracy: 0.9936 - val_loss: 0.0408 - val_accuracy: 0.9880\n",
            "Epoch 31/100\n",
            "572/572 [==============================] - 2s 3ms/step - loss: 0.0207 - accuracy: 0.9925 - val_loss: 0.0152 - val_accuracy: 0.9953\n",
            "Epoch 32/100\n",
            "572/572 [==============================] - 2s 4ms/step - loss: 0.0351 - accuracy: 0.9908 - val_loss: 0.0329 - val_accuracy: 0.9823\n",
            "Epoch 33/100\n",
            "572/572 [==============================] - 3s 4ms/step - loss: 0.0175 - accuracy: 0.9947 - val_loss: 0.0339 - val_accuracy: 0.9866\n",
            "Epoch 34/100\n",
            "572/572 [==============================] - 2s 3ms/step - loss: 0.0192 - accuracy: 0.9934 - val_loss: 0.0157 - val_accuracy: 0.9944\n",
            "Epoch 35/100\n",
            "572/572 [==============================] - 2s 3ms/step - loss: 0.0253 - accuracy: 0.9915 - val_loss: 0.0656 - val_accuracy: 0.9681\n",
            "Epoch 36/100\n",
            "572/572 [==============================] - 2s 3ms/step - loss: 0.0255 - accuracy: 0.9913 - val_loss: 0.0086 - val_accuracy: 0.9997\n",
            "Epoch 37/100\n",
            "572/572 [==============================] - 2s 3ms/step - loss: 0.0202 - accuracy: 0.9931 - val_loss: 0.0131 - val_accuracy: 0.9933\n",
            "Epoch 38/100\n",
            "572/572 [==============================] - 2s 3ms/step - loss: 0.0195 - accuracy: 0.9930 - val_loss: 0.0267 - val_accuracy: 0.9854\n",
            "Epoch 39/100\n",
            "572/572 [==============================] - 2s 4ms/step - loss: 0.0204 - accuracy: 0.9931 - val_loss: 0.0078 - val_accuracy: 0.9976\n",
            "Epoch 40/100\n",
            "572/572 [==============================] - 3s 5ms/step - loss: 0.0324 - accuracy: 0.9898 - val_loss: 0.0113 - val_accuracy: 0.9959\n",
            "Epoch 41/100\n",
            "572/572 [==============================] - 2s 3ms/step - loss: 0.0140 - accuracy: 0.9961 - val_loss: 0.0141 - val_accuracy: 0.9962\n",
            "Epoch 42/100\n",
            "572/572 [==============================] - 2s 3ms/step - loss: 0.0162 - accuracy: 0.9946 - val_loss: 0.0073 - val_accuracy: 0.9981\n",
            "Epoch 43/100\n",
            "572/572 [==============================] - 2s 3ms/step - loss: 0.0229 - accuracy: 0.9926 - val_loss: 0.0384 - val_accuracy: 0.9905\n",
            "Epoch 44/100\n",
            "572/572 [==============================] - 2s 3ms/step - loss: 0.0257 - accuracy: 0.9916 - val_loss: 0.0579 - val_accuracy: 0.9873\n",
            "Epoch 45/100\n",
            "572/572 [==============================] - 2s 4ms/step - loss: 0.0189 - accuracy: 0.9943 - val_loss: 0.0107 - val_accuracy: 0.9988\n",
            "Epoch 46/100\n",
            "572/572 [==============================] - 2s 4ms/step - loss: 0.0182 - accuracy: 0.9938 - val_loss: 0.0215 - val_accuracy: 0.9897\n",
            "Epoch 47/100\n",
            "572/572 [==============================] - 2s 3ms/step - loss: 0.0171 - accuracy: 0.9941 - val_loss: 0.0259 - val_accuracy: 0.9863\n",
            "Epoch 48/100\n",
            "572/572 [==============================] - 2s 3ms/step - loss: 0.0199 - accuracy: 0.9934 - val_loss: 0.0059 - val_accuracy: 0.9992\n",
            "Epoch 49/100\n",
            "572/572 [==============================] - 2s 3ms/step - loss: 0.0172 - accuracy: 0.9942 - val_loss: 0.0091 - val_accuracy: 0.9993\n",
            "Epoch 50/100\n",
            "572/572 [==============================] - 2s 3ms/step - loss: 0.0161 - accuracy: 0.9948 - val_loss: 0.0074 - val_accuracy: 0.9979\n",
            "Epoch 51/100\n",
            "572/572 [==============================] - 2s 3ms/step - loss: 0.0198 - accuracy: 0.9931 - val_loss: 0.0092 - val_accuracy: 0.9965\n",
            "Epoch 52/100\n",
            "572/572 [==============================] - 3s 5ms/step - loss: 0.0189 - accuracy: 0.9942 - val_loss: 0.0118 - val_accuracy: 0.9975\n",
            "Epoch 53/100\n",
            "572/572 [==============================] - 3s 5ms/step - loss: 0.0138 - accuracy: 0.9958 - val_loss: 0.0095 - val_accuracy: 0.9975\n",
            "Epoch 54/100\n",
            "572/572 [==============================] - 3s 4ms/step - loss: 0.0221 - accuracy: 0.9940 - val_loss: 0.0071 - val_accuracy: 0.9965\n",
            "Epoch 55/100\n",
            "572/572 [==============================] - 2s 3ms/step - loss: 0.0158 - accuracy: 0.9947 - val_loss: 0.0126 - val_accuracy: 0.9971\n",
            "Epoch 56/100\n",
            "572/572 [==============================] - 2s 3ms/step - loss: 0.0172 - accuracy: 0.9941 - val_loss: 0.0143 - val_accuracy: 0.9929\n",
            "Epoch 57/100\n",
            "572/572 [==============================] - 2s 3ms/step - loss: 0.0131 - accuracy: 0.9960 - val_loss: 0.0076 - val_accuracy: 0.9998\n",
            "Epoch 58/100\n",
            "572/572 [==============================] - 3s 5ms/step - loss: 0.0207 - accuracy: 0.9935 - val_loss: 0.0116 - val_accuracy: 0.9948\n",
            "Epoch 59/100\n",
            "572/572 [==============================] - 2s 3ms/step - loss: 0.0127 - accuracy: 0.9962 - val_loss: 0.1423 - val_accuracy: 0.9451\n",
            "Epoch 60/100\n",
            "572/572 [==============================] - 2s 3ms/step - loss: 0.0166 - accuracy: 0.9948 - val_loss: 0.0071 - val_accuracy: 0.9998\n",
            "Epoch 61/100\n",
            "572/572 [==============================] - 2s 3ms/step - loss: 0.0131 - accuracy: 0.9957 - val_loss: 0.0082 - val_accuracy: 0.9985\n",
            "Epoch 62/100\n",
            "572/572 [==============================] - 2s 3ms/step - loss: 0.0133 - accuracy: 0.9958 - val_loss: 0.0066 - val_accuracy: 0.9981\n",
            "Epoch 63/100\n",
            "572/572 [==============================] - 2s 3ms/step - loss: 0.0215 - accuracy: 0.9932 - val_loss: 0.0381 - val_accuracy: 0.9810\n",
            "Epoch 64/100\n",
            "572/572 [==============================] - 2s 4ms/step - loss: 0.0151 - accuracy: 0.9950 - val_loss: 0.0038 - val_accuracy: 0.9994\n",
            "Epoch 65/100\n",
            "572/572 [==============================] - 2s 4ms/step - loss: 0.0205 - accuracy: 0.9937 - val_loss: 0.0108 - val_accuracy: 0.9976\n",
            "Epoch 66/100\n",
            "572/572 [==============================] - 2s 3ms/step - loss: 0.0152 - accuracy: 0.9951 - val_loss: 0.0258 - val_accuracy: 0.9872\n",
            "Epoch 67/100\n",
            "572/572 [==============================] - 2s 3ms/step - loss: 0.0128 - accuracy: 0.9959 - val_loss: 0.0268 - val_accuracy: 0.9902\n",
            "Epoch 68/100\n",
            "572/572 [==============================] - 2s 3ms/step - loss: 0.0189 - accuracy: 0.9938 - val_loss: 0.0160 - val_accuracy: 0.9962\n",
            "Epoch 69/100\n",
            "572/572 [==============================] - 2s 3ms/step - loss: 0.0113 - accuracy: 0.9964 - val_loss: 0.0073 - val_accuracy: 0.9999\n",
            "Epoch 70/100\n",
            "572/572 [==============================] - 2s 3ms/step - loss: 0.0161 - accuracy: 0.9951 - val_loss: 0.0065 - val_accuracy: 0.9986\n",
            "Epoch 71/100\n",
            "572/572 [==============================] - 2s 4ms/step - loss: 0.0113 - accuracy: 0.9964 - val_loss: 0.0060 - val_accuracy: 0.9987\n",
            "Epoch 72/100\n",
            "572/572 [==============================] - 2s 4ms/step - loss: 0.0109 - accuracy: 0.9966 - val_loss: 0.0086 - val_accuracy: 0.9977\n",
            "Epoch 73/100\n",
            "572/572 [==============================] - 2s 3ms/step - loss: 0.0153 - accuracy: 0.9946 - val_loss: 0.0051 - val_accuracy: 0.9987\n",
            "Epoch 74/100\n",
            "572/572 [==============================] - 2s 3ms/step - loss: 0.0109 - accuracy: 0.9966 - val_loss: 0.0092 - val_accuracy: 0.9970\n",
            "Epoch 75/100\n",
            "572/572 [==============================] - 2s 3ms/step - loss: 0.0155 - accuracy: 0.9945 - val_loss: 0.0326 - val_accuracy: 0.9873\n",
            "Epoch 76/100\n",
            "572/572 [==============================] - 2s 3ms/step - loss: 0.0138 - accuracy: 0.9950 - val_loss: 0.0709 - val_accuracy: 0.9820\n",
            "Epoch 77/100\n",
            "572/572 [==============================] - 2s 3ms/step - loss: 0.0135 - accuracy: 0.9957 - val_loss: 0.0353 - val_accuracy: 0.9843\n",
            "Epoch 78/100\n",
            "572/572 [==============================] - 3s 5ms/step - loss: 0.0113 - accuracy: 0.9962 - val_loss: 0.0088 - val_accuracy: 0.9970\n",
            "Epoch 79/100\n",
            "572/572 [==============================] - 2s 3ms/step - loss: 0.0129 - accuracy: 0.9960 - val_loss: 0.0035 - val_accuracy: 0.9997\n",
            "Epoch 80/100\n",
            "572/572 [==============================] - 2s 3ms/step - loss: 0.0089 - accuracy: 0.9971 - val_loss: 0.0042 - val_accuracy: 0.9987\n",
            "Epoch 81/100\n",
            "572/572 [==============================] - 2s 3ms/step - loss: 0.0147 - accuracy: 0.9953 - val_loss: 0.0052 - val_accuracy: 0.9983\n",
            "Epoch 82/100\n",
            "572/572 [==============================] - 2s 3ms/step - loss: 0.0083 - accuracy: 0.9976 - val_loss: 0.0328 - val_accuracy: 0.9912\n",
            "Epoch 83/100\n",
            "572/572 [==============================] - 2s 3ms/step - loss: 0.0124 - accuracy: 0.9963 - val_loss: 0.0177 - val_accuracy: 0.9922\n",
            "Epoch 84/100\n",
            "572/572 [==============================] - 2s 3ms/step - loss: 0.0146 - accuracy: 0.9956 - val_loss: 0.0040 - val_accuracy: 0.9986\n",
            "Epoch 85/100\n",
            "572/572 [==============================] - 3s 4ms/step - loss: 0.0079 - accuracy: 0.9977 - val_loss: 0.0090 - val_accuracy: 0.9971\n",
            "Epoch 86/100\n",
            "572/572 [==============================] - 2s 3ms/step - loss: 0.0154 - accuracy: 0.9953 - val_loss: 0.0233 - val_accuracy: 0.9916\n",
            "Epoch 87/100\n",
            "572/572 [==============================] - 2s 3ms/step - loss: 0.0084 - accuracy: 0.9976 - val_loss: 0.0059 - val_accuracy: 0.9997\n",
            "Epoch 88/100\n",
            "572/572 [==============================] - 2s 3ms/step - loss: 0.0089 - accuracy: 0.9973 - val_loss: 0.0097 - val_accuracy: 0.9975\n",
            "Epoch 89/100\n",
            "572/572 [==============================] - 2s 3ms/step - loss: 0.0164 - accuracy: 0.9950 - val_loss: 0.0068 - val_accuracy: 0.9984\n",
            "Epoch 90/100\n",
            "572/572 [==============================] - 2s 3ms/step - loss: 0.0103 - accuracy: 0.9966 - val_loss: 0.0102 - val_accuracy: 0.9978\n",
            "Epoch 91/100\n",
            "572/572 [==============================] - 2s 4ms/step - loss: 0.0136 - accuracy: 0.9955 - val_loss: 0.0054 - val_accuracy: 0.9985\n",
            "Epoch 92/100\n",
            "572/572 [==============================] - 2s 4ms/step - loss: 0.0107 - accuracy: 0.9965 - val_loss: 0.0046 - val_accuracy: 0.9985\n",
            "Epoch 93/100\n",
            "572/572 [==============================] - 2s 3ms/step - loss: 0.0122 - accuracy: 0.9960 - val_loss: 0.0037 - val_accuracy: 0.9999\n",
            "Epoch 94/100\n",
            "572/572 [==============================] - 2s 3ms/step - loss: 0.0122 - accuracy: 0.9964 - val_loss: 0.0105 - val_accuracy: 0.9938\n",
            "Epoch 95/100\n",
            "572/572 [==============================] - 2s 3ms/step - loss: 0.0090 - accuracy: 0.9972 - val_loss: 0.0234 - val_accuracy: 0.9863\n",
            "Epoch 96/100\n",
            "572/572 [==============================] - 2s 3ms/step - loss: 0.0104 - accuracy: 0.9967 - val_loss: 0.0268 - val_accuracy: 0.9921\n",
            "Epoch 97/100\n",
            "572/572 [==============================] - 2s 3ms/step - loss: 0.0149 - accuracy: 0.9951 - val_loss: 0.0068 - val_accuracy: 0.9978\n",
            "Epoch 98/100\n",
            "572/572 [==============================] - 2s 4ms/step - loss: 0.0103 - accuracy: 0.9968 - val_loss: 0.0224 - val_accuracy: 0.9957\n",
            "Epoch 99/100\n",
            "572/572 [==============================] - 2s 4ms/step - loss: 0.0185 - accuracy: 0.9944 - val_loss: 0.0278 - val_accuracy: 0.9901\n"
          ]
        }
      ],
      "source": [
        "early_stopping = EarlyStopping(monitor='val_loss', patience=20, restore_best_weights=True)\n",
        "\n",
        "model.summary()\n",
        "history = model.fit(X_train, y_train, epochs=100, batch_size=128, validation_data=(X_test, y_test), callbacks=[early_stopping])"
      ]
    },
    {
      "cell_type": "code",
      "execution_count": 82,
      "metadata": {
        "colab": {
          "base_uri": "https://localhost:8080/",
          "height": 989
        },
        "id": "3Ll00mmyhxZQ",
        "outputId": "79e565d0-b0d9-4bdc-aa3f-26471221804c"
      },
      "outputs": [
        {
          "output_type": "display_data",
          "data": {
            "text/plain": [
              "<Figure size 800x550 with 1 Axes>"
            ],
            "image/png": "[encoded data removed]"
          },
          "metadata": {}
        },
        {
          "output_type": "display_data",
          "data": {
            "text/plain": [
              "<Figure size 800x550 with 1 Axes>"
            ],
            "image/png": "[encoded data removed]"
          },
          "metadata": {}
        }
      ],
      "source": [
        "def plot_graphs(history, string):\n",
        "    plt.plot(history.history[string])\n",
        "    plt.plot(history.history['val_'+string])\n",
        "    plt.xlabel('epoch')\n",
        "    plt.xlabel(string)\n",
        "    plt.legend([string, \"val_\"+string])\n",
        "    plt.show()\n",
        "\n",
        "plot_graphs(history, 'accuracy')\n",
        "plot_graphs(history, 'loss')"
      ]
    },
    {
      "cell_type": "code",
      "execution_count": 83,
      "metadata": {
        "colab": {
          "base_uri": "https://localhost:8080/"
        },
        "id": "Mdbh41ZIkQEn",
        "outputId": "170a9fb1-c465-4e36-8cc6-b4de13090a98"
      },
      "outputs": [
        {
          "output_type": "stream",
          "name": "stdout",
          "text": [
            "572/572 [==============================] - 1s 2ms/step - loss: 0.0035 - accuracy: 0.9997\n"
          ]
        }
      ],
      "source": [
        "evaluation = model.evaluate(X_test, y_test)"
      ]
    },
    {
      "cell_type": "code",
      "execution_count": 84,
      "metadata": {
        "colab": {
          "base_uri": "https://localhost:8080/"
        },
        "id": "prIKYjlPkZAI",
        "outputId": "860d2315-c9c1-4f91-e1ef-8f94d7e5a2c9"
      },
      "outputs": [
        {
          "output_type": "stream",
          "name": "stdout",
          "text": [
            "572/572 [==============================] - 1s 1ms/step\n"
          ]
        }
      ],
      "source": [
        "y_pred = np.argmax(model.predict(X_test), axis=1)"
      ]
    },
    {
      "cell_type": "code",
      "execution_count": 85,
      "metadata": {
        "colab": {
          "base_uri": "https://localhost:8080/"
        },
        "id": "gs8niu5GkdRk",
        "outputId": "6db855d5-2a87-4281-beb8-6b2469e72521"
      },
      "outputs": [
        {
          "output_type": "execute_result",
          "data": {
            "text/plain": [
              "array([3, 3, 4, ..., 3, 1, 4])"
            ]
          },
          "metadata": {},
          "execution_count": 85
        }
      ],
      "source": [
        "y_pred"
      ]
    },
    {
      "cell_type": "code",
      "execution_count": 86,
      "metadata": {
        "colab": {
          "base_uri": "https://localhost:8080/"
        },
        "id": "iy4Qb37mkjBS",
        "outputId": "01c49895-931b-45f9-b80c-c095e6612c61"
      },
      "outputs": [
        {
          "output_type": "execute_result",
          "data": {
            "text/plain": [
              "61738    3\n",
              "57512    3\n",
              "87193    4\n",
              "79501    4\n",
              "34021    0\n",
              "        ..\n",
              "76224    4\n",
              "30502    0\n",
              "55539    3\n",
              "45723    1\n",
              "78698    4\n",
              "Name: Cluster, Length: 18293, dtype: int32"
            ]
          },
          "metadata": {},
          "execution_count": 86
        }
      ],
      "source": [
        "y_test"
      ]
    },
    {
      "cell_type": "code",
      "execution_count": 87,
      "metadata": {
        "colab": {
          "base_uri": "https://localhost:8080/"
        },
        "id": "rajddws2kpjn",
        "outputId": "8edd0359-ac51-41d4-aacc-0089bc346f26"
      },
      "outputs": [
        {
          "output_type": "stream",
          "name": "stdout",
          "text": [
            "              precision    recall  f1-score   support\n",
            "\n",
            "           0       1.00      1.00      1.00      3706\n",
            "           1       1.00      1.00      1.00      3707\n",
            "           2       1.00      1.00      1.00      3618\n",
            "           3       1.00      1.00      1.00      3681\n",
            "           4       1.00      1.00      1.00      3581\n",
            "\n",
            "    accuracy                           1.00     18293\n",
            "   macro avg       1.00      1.00      1.00     18293\n",
            "weighted avg       1.00      1.00      1.00     18293\n",
            "\n"
          ]
        }
      ],
      "source": [
        "print(classification_report(y_test, y_pred))"
      ]
    },
    {
      "cell_type": "code",
      "execution_count": 88,
      "metadata": {
        "colab": {
          "base_uri": "https://localhost:8080/"
        },
        "id": "btNvJrBAkvlI",
        "outputId": "c9625364-18dc-4def-f15b-65230d8206e1"
      },
      "outputs": [
        {
          "output_type": "execute_result",
          "data": {
            "text/plain": [
              "array([[3706,    0,    0,    0,    0],\n",
              "       [   0, 3707,    0,    0,    0],\n",
              "       [   6,    0, 3612,    0,    0],\n",
              "       [   0,    0,    0, 3681,    0],\n",
              "       [   0,    0,    0,    0, 3581]])"
            ]
          },
          "metadata": {},
          "execution_count": 88
        }
      ],
      "source": [
        "cm = confusion_matrix(y_test, y_pred)\n",
        "cm"
      ]
    },
    {
      "cell_type": "code",
      "execution_count": 89,
      "metadata": {
        "colab": {
          "base_uri": "https://localhost:8080/",
          "height": 580
        },
        "id": "jpxzZsuek20x",
        "outputId": "c4d801b5-bfc1-42a8-e17c-572bbc8bf5ac"
      },
      "outputs": [
        {
          "output_type": "execute_result",
          "data": {
            "text/plain": [
              "Text(0.5, 1.0, 'Confusion Matrix Model with ANN')"
            ]
          },
          "metadata": {},
          "execution_count": 89
        },
        {
          "output_type": "display_data",
          "data": {
            "text/plain": [
              "<Figure size 1000x600 with 2 Axes>"
            ],
            "image/png": "[encoded data removed]"
          },
          "metadata": {}
        }
      ],
      "source": [
        "fig = plt.figure(figsize = (10, 6))\n",
        "sns.heatmap(cm, annot = True, fmt = \"d\", cmap= 'Greens')\n",
        "\n",
        "# Labeling the X-axis\n",
        "plt.xlabel(\"Predicted Class\")\n",
        "\n",
        "# Labeling the Y-axis\n",
        "plt.ylabel(\"True Class\")\n",
        "\n",
        "# Give a title to the graph\n",
        "plt.title(\"Confusion Matrix Model with ANN\")"
      ]
    },
    {
      "cell_type": "code",
      "execution_count": 90,
      "metadata": {
        "id": "g8CzUaCrT2wG"
      },
      "outputs": [],
      "source": [
        "import pickle"
      ]
    },
    {
      "cell_type": "code",
      "execution_count": 93,
      "metadata": {
        "id": "SX7Tr9CAUJ-n"
      },
      "outputs": [],
      "source": [
        "filename = 'covidcases_model.sav'\n",
        "pickle.dump(knn, open(filename, 'wb'))"
      ]
    }
  ],
  "metadata": {
    "colab": {
      "provenance": []
    },
    "kernelspec": {
      "display_name": "Python 3",
      "name": "python3"
    },
    "language_info": {
      "name": "python"
    }
  },
  "nbformat": 4,
  "nbformat_minor": 0
}